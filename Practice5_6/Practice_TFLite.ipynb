{
 "cells": [
  {
   "cell_type": "markdown",
   "metadata": {
    "id": "-38Nv5MBNYLI"
   },
   "source": [
    "# TensorFlow Lite model optimization\n",
    "\n",
    "TensorFlow Lite에서는 edge device에서 모델의 inference를 효율적으로 하기 위한 방법인 quantization과 pruning을 이용할 수 있는 toolkit을 제공하고 있습니다. 이번 실습에서는 해당 toolkit을 이용해 볼 것입니다.\n",
    "\n",
    "더 자세한 내용은 document를 참고 해주세요.\n",
    "- https://www.tensorflow.org/model_optimization/guide\n",
    "- https://www.tensorflow.org/lite/performance/model_optimization\n",
    "- TFLite https://www.tensorflow.org/lite/guide"
   ]
  },
  {
   "cell_type": "markdown",
   "metadata": {
    "id": "SmO6ifCcNYLK"
   },
   "source": [
    "## 0. What is TFLite?\n",
    "\n",
    "TensorFlow Lite는 TensorFlow로 학습된 모델을 tflite이라는 포맷으로 바꿔 줌으로써 모바일 장치, 임베디드 장치 등의 가벼운 장치에서 모델을 inference 할 수 있게 해주는 플랫폼 이다.\n",
    "\n",
    "<img src=\"https://user-images.githubusercontent.com/37704174/115159215-fccd0800-a0cc-11eb-817b-645f96c76966.png\" width=\"400\" height=\"400\"/>  \n",
    "\n",
    "\n",
    "TensorFlow는 모델을 파일로 저장할 때는 [Protocol Buffer](https://developers.google.com/protocol-buffers)라는 포맷으로 저장을 하고, TensorFlow Lite의 모델은 [FlatBuffer](https://google.github.io/flatbuffers/)라는 포맷으로 저장을 합니다. 두 포맷의 가장 큰 차이점은 FlatBuffer는 serialized 파일을 추가적인 메모리 할당 없이 deserialize를 할 수 있기 때문에 빠르게 파일에 있는 데이터에 접근할 수 있다.\n",
    "\n",
    "\n",
    "TFLite 모델로 변환을 할 때, quantization과 pruning 등의 optimization을 할 수 있는데, 이 때의 장점은 다음과 같다.\n",
    "\n",
    "- Size reduction\n",
    "  - smaller storage size, smaler download size, less memory usage\n",
    "- Latency reduction\n",
    "  - computation을 줄여 줌으로써 inference에 걸리는 시간 감소\n",
    "- Accelerator compatibility\n",
    "  - Edge TPU와 같이 특정 hardware는 각각의 quantization 요구 사항을 만족해야 함"
   ]
  },
  {
   "cell_type": "markdown",
   "metadata": {
    "id": "oc3kI_bXNYLL"
   },
   "source": [
    "tensorflow 최신 버전 설치"
   ]
  },
  {
   "cell_type": "code",
   "execution_count": 1,
   "metadata": {
    "id": "CHbQNyjRNYLL",
    "scrolled": true
   },
   "outputs": [],
   "source": [
    "!pip install -q --upgrade tensorflow"
   ]
  },
  {
   "cell_type": "code",
   "execution_count": 1,
   "metadata": {
    "id": "Er5ClTbENYLM",
    "outputId": "cb7913ff-6547-4dab-bf06-d0832625f294"
   },
   "outputs": [],
   "source": [
    "import os\n",
    "import numpy as np\n",
    "import zipfile\n",
    "import tempfile\n",
    "import tensorflow as tf\n",
    "assert float(tf.__version__[:3]) >= 2.6\n",
    "\n",
    "tf.random.set_seed(1111)\n",
    "\n",
    "os.environ['TF_CPP_MIN_LOG_LEVEL'] = '3'"
   ]
  },
  {
   "cell_type": "code",
   "execution_count": 2,
   "metadata": {
    "id": "MOi-AOHCNYLM",
    "outputId": "7238f4f6-4e09-4c0c-cc32-a01123a46f64"
   },
   "outputs": [
    {
     "data": {
      "text/plain": [
       "'2.9.1'"
      ]
     },
     "execution_count": 2,
     "metadata": {},
     "output_type": "execute_result"
    }
   ],
   "source": [
    "tf.__version__"
   ]
  },
  {
   "cell_type": "markdown",
   "metadata": {
    "id": "xyFfTRHWNYLN"
   },
   "source": [
    "## 1. Quantization\n",
    "### 1-1. [Post-training quantization](https://blog.tensorflow.org/2019/06/tensorflow-integer-quantization.html)\n",
    "\n",
    "post-training quantization은 학습을 한 다음에 quantization을 하는 방법이다. quantization aware training보다는 accuracy가 좀 떨어질 수 있지만, 학습된 모델을 가져와서 쉽게 쓸 수 있다. tensorflow에서 다음과 같은 방법들을 제공하고 있다.\n",
    "\n",
    "\n",
    "<img src=\"https://user-images.githubusercontent.com/37704174/114367164-2232b100-9bb7-11eb-81e7-b9b8dec09de5.png\" width=\"700\" height=\"700\"/>  \n",
    "- dynamic range quantization: weight은 8 bit integer로 저장. inference 시에는 8bit float로 바뀜. activation은 range에 따라서(dynamic) 8 bit float으로 저장\n",
    "\n",
    "\n",
    "나중에 Edge TPU가 있는 Coral board를 사용할 것이기 때문에, post-training integer quantization을 다뤄 볼 것이다.\n"
   ]
  },
  {
   "cell_type": "markdown",
   "metadata": {
    "id": "SxO32_RZNYLN"
   },
   "source": [
    "먼저 quantizaion을 할 간단한 모델을 학습한다."
   ]
  },
  {
   "cell_type": "code",
   "execution_count": 3,
   "metadata": {
    "id": "AyuU6UCINYLP",
    "outputId": "d1e52bc0-65c3-4cd7-85e0-ed1e9cf8b10e",
    "scrolled": true
   },
   "outputs": [
    {
     "name": "stdout",
     "output_type": "stream",
     "text": [
      "Epoch 1/10\n",
      "1688/1688 [==============================] - 21s 4ms/step - loss: 0.4777 - accuracy: 0.8306 - val_loss: 0.3759 - val_accuracy: 0.8670\n",
      "Epoch 2/10\n",
      "1688/1688 [==============================] - 7s 4ms/step - loss: 0.3323 - accuracy: 0.8826 - val_loss: 0.3356 - val_accuracy: 0.8808\n",
      "Epoch 3/10\n",
      "1688/1688 [==============================] - 7s 4ms/step - loss: 0.2934 - accuracy: 0.8958 - val_loss: 0.2888 - val_accuracy: 0.8948\n",
      "Epoch 4/10\n",
      "1688/1688 [==============================] - 7s 4ms/step - loss: 0.2668 - accuracy: 0.9050 - val_loss: 0.2773 - val_accuracy: 0.9003\n",
      "Epoch 5/10\n",
      "1688/1688 [==============================] - 7s 4ms/step - loss: 0.2471 - accuracy: 0.9106 - val_loss: 0.2603 - val_accuracy: 0.9047\n",
      "Epoch 6/10\n",
      "1688/1688 [==============================] - 7s 4ms/step - loss: 0.2308 - accuracy: 0.9161 - val_loss: 0.2913 - val_accuracy: 0.8927\n",
      "Epoch 7/10\n",
      "1688/1688 [==============================] - 7s 4ms/step - loss: 0.2186 - accuracy: 0.9216 - val_loss: 0.2598 - val_accuracy: 0.9070\n",
      "Epoch 8/10\n",
      "1688/1688 [==============================] - 8s 4ms/step - loss: 0.2062 - accuracy: 0.9252 - val_loss: 0.2476 - val_accuracy: 0.9107\n",
      "Epoch 9/10\n",
      "1688/1688 [==============================] - 7s 4ms/step - loss: 0.1957 - accuracy: 0.9288 - val_loss: 0.2393 - val_accuracy: 0.9122\n",
      "Epoch 10/10\n",
      "1688/1688 [==============================] - 8s 4ms/step - loss: 0.1880 - accuracy: 0.9317 - val_loss: 0.2520 - val_accuracy: 0.9085\n",
      "313/313 [==============================] - 1s 3ms/step - loss: 0.2729 - accuracy: 0.9067\n"
     ]
    }
   ],
   "source": [
    "# Load MNIST dataset\n",
    "fashion_mnist = tf.keras.datasets.fashion_mnist\n",
    "(train_images, train_labels), (test_images, test_labels) = fashion_mnist.load_data()\n",
    "\n",
    "# Normalize the input image\n",
    "train_images = train_images.astype(np.float32) / 255.0\n",
    "test_images = test_images.astype(np.float32) / 255.0\n",
    "\n",
    "# Define the model architecture\n",
    "model = tf.keras.models.Sequential([\n",
    "    tf.keras.layers.InputLayer(input_shape=(28, 28)),\n",
    "    tf.keras.layers.Reshape(target_shape=(28, 28, 1)),\n",
    "    tf.keras.layers.Conv2D(filters=16, kernel_size=3, padding='same', activation='relu'),\n",
    "    tf.keras.layers.MaxPool2D(pool_size=(2,2), strides=(2,2)),\n",
    "    tf.keras.layers.Conv2D(filters=32, kernel_size=3, padding='same', activation='relu'),\n",
    "    tf.keras.layers.MaxPool2D(pool_size=(2,2), strides=(2,2)),\n",
    "    tf.keras.layers.Flatten(),\n",
    "    tf.keras.layers.Dense(10, activation='softmax')\n",
    "])\n",
    "\n",
    "# Compile and Train\n",
    "model.compile(optimizer='adam',\n",
    "              loss=tf.keras.losses.SparseCategoricalCrossentropy(\n",
    "                  from_logits=False),\n",
    "              metrics=['accuracy'])\n",
    "model.fit(\n",
    "  train_images,\n",
    "  train_labels,  \n",
    "  epochs=10,\n",
    "  validation_split=0.1\n",
    ")\n",
    "\n",
    "metrics = model.evaluate(test_images, test_labels)"
   ]
  },
  {
   "cell_type": "code",
   "execution_count": 4,
   "metadata": {},
   "outputs": [
    {
     "name": "stdout",
     "output_type": "stream",
     "text": [
      "Model test loss: 0.273 | test accuracy: 90.67%\n"
     ]
    }
   ],
   "source": [
    "print(f\"Model test loss: {metrics[0]:.03f} | test accuracy: {metrics[1]*100:.02f}%\")"
   ]
  },
  {
   "cell_type": "markdown",
   "metadata": {
    "id": "AudCskQwNYLQ"
   },
   "source": [
    "학습된 모델을 변환하기 위해서는 [TensorFlow Lite converter](https://www.tensorflow.org/lite/convert)라는 것을 이용해야 합니다. 이것은 TensorFlow 모델을 TensorFlow Lite 모델로 바꿔 줍니다.\n",
    "\n",
    "다음과 같이 tflite 모델로 변환할 수 있습니다."
   ]
  },
  {
   "cell_type": "code",
   "execution_count": 5,
   "metadata": {
    "id": "gb41bItUNYLQ",
    "outputId": "f708ad1e-1fde-46e9-bddb-df54a9650887"
   },
   "outputs": [
    {
     "name": "stderr",
     "output_type": "stream",
     "text": [
      "WARNING:absl:Found untraced functions such as _jit_compiled_convolution_op, _jit_compiled_convolution_op while saving (showing 2 of 2). These functions will not be directly callable after loading.\n"
     ]
    },
    {
     "name": "stdout",
     "output_type": "stream",
     "text": [
      "INFO:tensorflow:Assets written to: C:\\Users\\steve\\AppData\\Local\\Temp\\tmp6ob4_9iy\\assets\n"
     ]
    },
    {
     "name": "stderr",
     "output_type": "stream",
     "text": [
      "INFO:tensorflow:Assets written to: C:\\Users\\steve\\AppData\\Local\\Temp\\tmp6ob4_9iy\\assets\n"
     ]
    }
   ],
   "source": [
    "converter = tf.lite.TFLiteConverter.from_keras_model(model)\n",
    "\n",
    "tflite_model = converter.convert()"
   ]
  },
  {
   "cell_type": "markdown",
   "metadata": {
    "id": "kWv-DJiWNYLQ"
   },
   "source": [
    "변환할 때 아무런 옵션을 주지 않았으므로 이 모델은 단순히 32-bit float tflite 모델입니다."
   ]
  },
  {
   "cell_type": "markdown",
   "metadata": {
    "id": "BzTkxHFBNYLQ"
   },
   "source": [
    "### Post-training integer quantization"
   ]
  },
  {
   "cell_type": "markdown",
   "metadata": {
    "id": "9Miv-lI8NYLR"
   },
   "source": [
    "\n",
    "<img src=\"https://user-images.githubusercontent.com/37704174/114906428-f9c7e280-9e54-11eb-9038-9854d5c8d741.png\" width=\"700\" height=\"700\"/>  \n",
    "<img src=\"https://user-images.githubusercontent.com/37704174/114907026-9e4a2480-9e55-11eb-980f-55999688c260.png\" width=\"500\" height=\"500\"/>  \n"
   ]
  },
  {
   "cell_type": "markdown",
   "metadata": {
    "id": "UDfn7MVMNYLR"
   },
   "source": [
    "다음 셀을 실행하면 quantization이 완료 된다."
   ]
  },
  {
   "cell_type": "code",
   "execution_count": 6,
   "metadata": {
    "id": "NJLtl1woNYLR",
    "outputId": "e04550b5-0c99-4282-cad8-1d49edb8d9e9"
   },
   "outputs": [
    {
     "name": "stderr",
     "output_type": "stream",
     "text": [
      "WARNING:absl:Found untraced functions such as _jit_compiled_convolution_op, _jit_compiled_convolution_op while saving (showing 2 of 2). These functions will not be directly callable after loading.\n"
     ]
    },
    {
     "name": "stdout",
     "output_type": "stream",
     "text": [
      "INFO:tensorflow:Assets written to: C:\\Users\\steve\\AppData\\Local\\Temp\\tmpbul3oa68\\assets\n"
     ]
    },
    {
     "name": "stderr",
     "output_type": "stream",
     "text": [
      "INFO:tensorflow:Assets written to: C:\\Users\\steve\\AppData\\Local\\Temp\\tmpbul3oa68\\assets\n",
      "C:\\Users\\steve\\.conda\\envs\\tf\\lib\\site-packages\\tensorflow\\lite\\python\\convert.py:766: UserWarning: Statistics for quantized inputs were expected, but not specified; continuing anyway.\n",
      "  warnings.warn(\"Statistics for quantized inputs were expected, but not \"\n"
     ]
    }
   ],
   "source": [
    "def representative_data_gen():\n",
    "    for input_value in tf.data.Dataset.from_tensor_slices(train_images).batch(1).take(100):\n",
    "        yield [input_value]\n",
    "\n",
    "converter = tf.lite.TFLiteConverter.from_keras_model(model)\n",
    "\n",
    "converter.optimizations = [tf.lite.Optimize.DEFAULT]\n",
    "converter.representative_dataset = representative_data_gen\n",
    "# Ensure that if any ops can't be quantized, the converter throws an error\n",
    "converter.target_spec.supported_ops = [tf.lite.OpsSet.TFLITE_BUILTINS_INT8]\n",
    "# Set the input and output tensors to uint8 (APIs added in r2.3)\n",
    "converter.inference_input_type = tf.uint8 # or tf.int8\n",
    "converter.inference_output_type = tf.uint8 # or tf.int8\n",
    "\n",
    "post_quant_tflite_model = converter.convert()"
   ]
  },
  {
   "cell_type": "markdown",
   "metadata": {
    "id": "2LQXLHXbNYLR"
   },
   "source": [
    "evaluate을 위한 helper function이다. input type을 integer로 했으므로, quantize를 한 다음에 inference를 한다."
   ]
  },
  {
   "cell_type": "code",
   "execution_count": 7,
   "metadata": {
    "id": "7vlGS2aRNYLR"
   },
   "outputs": [],
   "source": [
    "from tqdm import tqdm\n",
    "\n",
    "def evaluate_model(interpreter):\n",
    "    global test_images\n",
    "    \n",
    "    input_details = interpreter.get_input_details()[0]\n",
    "    input_index = input_details[\"index\"]\n",
    "    output_index = interpreter.get_output_details()[0][\"index\"]\n",
    "\n",
    "    # Run predictions on every image in the \"test\" dataset.\n",
    "    prediction_digits = []\n",
    "    for test_image in tqdm(test_images):\n",
    "        # quantize input\n",
    "        if input_details['dtype'] == np.uint8:\n",
    "            input_scale, input_zero_point = input_details[\"quantization\"]\n",
    "            test_image = test_image / input_scale + input_zero_point\n",
    "\n",
    "        # Pre-processing: add batch dimension\n",
    "        test_image = np.expand_dims(test_image, axis=0).astype(input_details[\"dtype\"])\n",
    "        interpreter.set_tensor(input_index, test_image)\n",
    "\n",
    "        # Run inference.\n",
    "        interpreter.invoke()\n",
    "\n",
    "        # Post-processing: remove batch dimension and find the digit with highest\n",
    "        # probability.\n",
    "        output = interpreter.tensor(output_index)\n",
    "        digit = np.argmax(output()[0])\n",
    "        prediction_digits.append(digit)\n",
    "        \n",
    "    print()\n",
    "    # Compare prediction results with ground truth labels to calculate accuracy.\n",
    "    prediction_digits = np.array(prediction_digits)\n",
    "    accuracy = (prediction_digits == test_labels).mean()\n",
    "    return accuracy, output"
   ]
  },
  {
   "cell_type": "markdown",
   "metadata": {
    "id": "itGxyCSJNYLR"
   },
   "source": [
    "tflite 모델로 inference를 하려면 [`Interpreter`](https://www.tensorflow.org/api_docs/python/tf/lite/Interpreter)를 이용한다. `model_content` 대신에 `model_path`를 이용하면 tflite 파일을 불러올 수도 있다.  \n",
    "inference를 하기 위해서는  \n",
    "interpreter 생성 &#8594; `allocate_tensor` &#8594; `set_tensor` &#8594; `invoke` 순으로 실행한다.  \n",
    "지금 코드는 inference 할 때 image를 하나씩 처리하는데, batch 단위로 처리하려면 `resize_tensor_input`을 이용한다."
   ]
  },
  {
   "cell_type": "code",
   "execution_count": 8,
   "metadata": {
    "id": "DSsSg4iZNYLR",
    "outputId": "43f11f9c-9cd7-48cd-92da-dc984d1f5098",
    "scrolled": true
   },
   "outputs": [
    {
     "name": "stderr",
     "output_type": "stream",
     "text": [
      "100%|██████████████████████████████████████████████████████████████████████████| 10000/10000 [00:03<00:00, 2549.73it/s]\n"
     ]
    },
    {
     "name": "stdout",
     "output_type": "stream",
     "text": [
      "\n"
     ]
    },
    {
     "name": "stderr",
     "output_type": "stream",
     "text": [
      "100%|███████████████████████████████████████████████████████████████████████████| 10000/10000 [01:21<00:00, 122.80it/s]"
     ]
    },
    {
     "name": "stdout",
     "output_type": "stream",
     "text": [
      "\n"
     ]
    },
    {
     "name": "stderr",
     "output_type": "stream",
     "text": [
      "\n"
     ]
    }
   ],
   "source": [
    "# 32bit float tflite 모델로 interpreter 만듦\n",
    "interpreter = tf.lite.Interpreter(model_content=tflite_model)\n",
    "\n",
    "# inference 할 때 input batch 수를 설정하하는 법\n",
    "# input_details = interpreter.get_input_details()[0]\n",
    "# interpreter.resize_tensor_input(input_details[\"index\"], [10, 28, 28]) # <-- 추가\n",
    "\n",
    "interpreter.allocate_tensors()\n",
    "tflite_test_accuracy, _ = evaluate_model(interpreter)\n",
    "\n",
    "# 8bit integer tflite\n",
    "post_quant_interpreter = tf.lite.Interpreter(model_content=post_quant_tflite_model)\n",
    "post_quant_interpreter.allocate_tensors()\n",
    "post_quant_tflite_test_accuracy, output = evaluate_model(post_quant_interpreter)"
   ]
  },
  {
   "cell_type": "markdown",
   "metadata": {
    "id": "kDW5NAJYNYLS"
   },
   "source": [
    "`get_input_details`, `get_output_details`를 통해 input과 output의 type 및 quantization 정보를 알 수 있다."
   ]
  },
  {
   "cell_type": "code",
   "execution_count": 9,
   "metadata": {
    "id": "dDQavQx9NYLS",
    "outputId": "30741f15-a887-44b9-d6f1-845ade5aa13d"
   },
   "outputs": [
    {
     "data": {
      "text/plain": [
       "[{'name': 'serving_default_input_1:0',\n",
       "  'index': 0,\n",
       "  'shape': array([ 1, 28, 28]),\n",
       "  'shape_signature': array([-1, 28, 28]),\n",
       "  'dtype': numpy.uint8,\n",
       "  'quantization': (0.003921568859368563, 0),\n",
       "  'quantization_parameters': {'scales': array([0.00392157], dtype=float32),\n",
       "   'zero_points': array([0]),\n",
       "   'quantized_dimension': 0},\n",
       "  'sparsity_parameters': {}}]"
      ]
     },
     "execution_count": 9,
     "metadata": {},
     "output_type": "execute_result"
    }
   ],
   "source": [
    "post_quant_interpreter.get_input_details()"
   ]
  },
  {
   "cell_type": "code",
   "execution_count": 10,
   "metadata": {
    "id": "c-7djjwJNYLS",
    "outputId": "dd07ed79-36bc-472f-c5dc-110ee9028a99",
    "scrolled": true
   },
   "outputs": [
    {
     "data": {
      "text/plain": [
       "[{'name': 'StatefulPartitionedCall:0',\n",
       "  'index': 24,\n",
       "  'shape': array([ 1, 10]),\n",
       "  'shape_signature': array([-1, 10]),\n",
       "  'dtype': numpy.uint8,\n",
       "  'quantization': (0.00390625, 0),\n",
       "  'quantization_parameters': {'scales': array([0.00390625], dtype=float32),\n",
       "   'zero_points': array([0]),\n",
       "   'quantized_dimension': 0},\n",
       "  'sparsity_parameters': {}}]"
      ]
     },
     "execution_count": 10,
     "metadata": {},
     "output_type": "execute_result"
    }
   ],
   "source": [
    "post_quant_interpreter.get_output_details()"
   ]
  },
  {
   "cell_type": "markdown",
   "metadata": {
    "id": "3ISy7LIRNYLS"
   },
   "source": [
    "실제로 inference output이 정수임을 확인할 수 있다."
   ]
  },
  {
   "cell_type": "code",
   "execution_count": 11,
   "metadata": {
    "id": "GcRoicNTNYLS",
    "outputId": "3701564a-5d63-4584-a113-fdc437f9a419"
   },
   "outputs": [
    {
     "name": "stdout",
     "output_type": "stream",
     "text": [
      "[[  1   0   1   0   0 222   0  25   6   1]]\n"
     ]
    }
   ],
   "source": [
    "print(output())"
   ]
  },
  {
   "cell_type": "markdown",
   "metadata": {
    "id": "je5MmqUlNYLS"
   },
   "source": [
    "float 32 모델과 accuracy를 비교해 보자."
   ]
  },
  {
   "cell_type": "code",
   "execution_count": 12,
   "metadata": {
    "id": "O03t5FXANYLS",
    "outputId": "96fa0e05-3ac0-4605-bdeb-5661f8cd732a",
    "scrolled": true
   },
   "outputs": [
    {
     "name": "stdout",
     "output_type": "stream",
     "text": [
      "TFLite test accuracy: 0.9067\n",
      "Post-training Quant TFLite test_accuracy: 0.9072\n"
     ]
    }
   ],
   "source": [
    "print('TFLite test accuracy:', tflite_test_accuracy)\n",
    "print('Post-training Quant TFLite test_accuracy:', post_quant_tflite_test_accuracy)"
   ]
  },
  {
   "cell_type": "markdown",
   "metadata": {
    "id": "Fs85NIcbNYLS"
   },
   "source": [
    "모델을 파일로 저장해서 실제로 모델 크기가 줄어들었는지 확인해 보자."
   ]
  },
  {
   "cell_type": "code",
   "execution_count": 13,
   "metadata": {
    "id": "LMen-kkDNYLT",
    "outputId": "fb21aff4-4803-40ba-bf54-180cd2821315"
   },
   "outputs": [
    {
     "name": "stdout",
     "output_type": "stream",
     "text": [
      "Float model: 0.082 MB\n",
      "Quantized model: 0.025 MB\n",
      "Quantized model: 0.31 x Float model size\n"
     ]
    }
   ],
   "source": [
    "# create temp file\n",
    "_, tflite_file = tempfile.mkstemp('.tflite')\n",
    "_, post_quant_tflite_file = tempfile.mkstemp('.tflite')\n",
    "\n",
    "\n",
    "with open(tflite_file, 'wb') as f:\n",
    "    f.write(tflite_model)\n",
    "\n",
    "with open(post_quant_tflite_file, 'wb') as f:\n",
    "    f.write(post_quant_tflite_model)\n",
    "\n",
    "\n",
    "tflite_size = os.path.getsize(tflite_file) / float(2**20)\n",
    "quantized_size = os.path.getsize(post_quant_tflite_file) / float(2**20)\n",
    "    \n",
    "print(f\"Float model: {tflite_size:.03f} MB\")\n",
    "print(f\"Quantized model: {quantized_size:.03f} MB\")\n",
    "print(f\"Quantized model: {quantized_size/tflite_size:.02f} x Float model size\", )"
   ]
  },
  {
   "cell_type": "markdown",
   "metadata": {
    "id": "tZxD5wAINYLT"
   },
   "source": [
    "### 실습: TensorFlow에서 제공하는 pretrain model 가져와서 post-training quantization 해보기\n",
    "\n",
    "TensorFlow에서는 여러 pretrained model을 제공한다. 아무거나 하나 가져와서 post-training quantization을 해보자.  "
   ]
  },
  {
   "cell_type": "code",
   "execution_count": 14,
   "metadata": {
    "id": "VFCVsuWpNYLT"
   },
   "outputs": [],
   "source": [
    "# pretrain 모델 import 하기.\n",
    "from tensorflow.keras.applications.resnet50 import ResNet50, preprocess_input, decode_predictions\n",
    "from tensorflow.keras.preprocessing import image\n",
    "from PIL import Image\n",
    "from IPython.display import display"
   ]
  },
  {
   "cell_type": "markdown",
   "metadata": {
    "id": "NS6lHBAYNYLT"
   },
   "source": [
    "다음의 test image를 이용할 것이다. quantization을 할 때, representative data로는 이 이미지 하나만 이용해도 된다."
   ]
  },
  {
   "cell_type": "code",
   "execution_count": 15,
   "metadata": {
    "id": "zCrlaZCiNYLT",
    "outputId": "7a9ccb46-3685-47b9-cc7f-d3bf824b1ac9",
    "scrolled": true
   },
   "outputs": [
    {
     "data": {
      "image/png": "[encoded data removed]",
      "text/plain": [
       "<PIL.Image.Image image mode=RGB size=224x224 at 0x170DD6ED4C0>"
      ]
     },
     "metadata": {},
     "output_type": "display_data"
    }
   ],
   "source": [
    "url = \"https://cdn.education.com/files/526001_527000/526114/file_526114.jpg\"\n",
    "os.system(\"curl \" + url + \" > balloon.jpg\")\n",
    "img_path = 'balloon.jpg'\n",
    "img = image.load_img(img_path, target_size=(224, 224))\n",
    "display(img)\n",
    "x = image.img_to_array(img)\n",
    "x = np.expand_dims(x, axis=0)\n",
    "x = preprocess_input(x) # 각 모델을 학습할 때 preprocess했던 방법을 사용"
   ]
  },
  {
   "cell_type": "markdown",
   "metadata": {
    "id": "NGThGpRgNYLT"
   },
   "source": [
    "evaluate 할 때는 다음 함수를 이용"
   ]
  },
  {
   "cell_type": "code",
   "execution_count": 16,
   "metadata": {
    "id": "50pX4XCyNYLT"
   },
   "outputs": [],
   "source": [
    "def evaluate_model_practice(interpreter, test_images):\n",
    "    \n",
    "    input_details = interpreter.get_input_details()[0]\n",
    "    input_index = input_details[\"index\"]\n",
    "    output_index = interpreter.get_output_details()[0][\"index\"]\n",
    "\n",
    "    # Run predictions on every image in the \"test\" dataset.\n",
    "    prediction_digits = []\n",
    "    for test_image in tqdm(test_images):\n",
    "        # quantize input\n",
    "        if input_details['dtype'] == np.uint8:\n",
    "            input_scale, input_zero_point = input_details[\"quantization\"]\n",
    "            test_image = test_image / input_scale + input_zero_point\n",
    "\n",
    "        # Pre-processing: add batch dimension\n",
    "        test_image = np.expand_dims(test_image, axis=0).astype(input_details[\"dtype\"])\n",
    "        interpreter.set_tensor(input_index, test_image)\n",
    "\n",
    "        # Run inference.\n",
    "        interpreter.invoke()\n",
    "\n",
    "        preds = interpreter.tensor(output_index)\n",
    "        preds = np.expand_dims(preds()[0], axis=0)\n",
    "\n",
    "    return preds"
   ]
  },
  {
   "cell_type": "code",
   "execution_count": 17,
   "metadata": {
    "id": "fiTLAk_ONYLT",
    "outputId": "819a97da-45e8-4aeb-d221-7bb20a4d9a36"
   },
   "outputs": [
    {
     "name": "stdout",
     "output_type": "stream",
     "text": [
      "1/1 [==============================] - 3s 3s/step\n",
      "Predicted: [('n02782093', 'balloon', 0.9515529), ('n04023962', 'punching_bag', 0.03351856), ('n03544143', 'hourglass', 0.001822629)]\n"
     ]
    }
   ],
   "source": [
    "# 1. import한 pretrain 모델 가져오기\n",
    "imagenet = ResNet50(weights='imagenet')\n",
    "\n",
    "preds = imagenet.predict(x)\n",
    "# decode the results into a list of tuples (class, description, probability)\n",
    "print('Predicted:', decode_predictions(preds, top=3)[0])"
   ]
  },
  {
   "cell_type": "markdown",
   "metadata": {
    "id": "zy8XYQknNYLT"
   },
   "source": [
    "크기 비교를 위한 32bit float tflite 모델"
   ]
  },
  {
   "cell_type": "code",
   "execution_count": 18,
   "metadata": {
    "id": "sNU42fGeNYLT",
    "outputId": "e804d0f7-05a9-466f-f47b-fb41a3afba72"
   },
   "outputs": [
    {
     "name": "stderr",
     "output_type": "stream",
     "text": [
      "WARNING:absl:Found untraced functions such as _jit_compiled_convolution_op, _jit_compiled_convolution_op, _jit_compiled_convolution_op, _jit_compiled_convolution_op, _jit_compiled_convolution_op while saving (showing 5 of 53). These functions will not be directly callable after loading.\n"
     ]
    },
    {
     "name": "stdout",
     "output_type": "stream",
     "text": [
      "INFO:tensorflow:Assets written to: C:\\Users\\steve\\AppData\\Local\\Temp\\tmpdqyd_ev5\\assets\n"
     ]
    },
    {
     "name": "stderr",
     "output_type": "stream",
     "text": [
      "INFO:tensorflow:Assets written to: C:\\Users\\steve\\AppData\\Local\\Temp\\tmpdqyd_ev5\\assets\n"
     ]
    }
   ],
   "source": [
    "converter = tf.lite.TFLiteConverter.from_keras_model(imagenet)\n",
    "imagenet_tflite = converter.convert()"
   ]
  },
  {
   "cell_type": "code",
   "execution_count": 19,
   "metadata": {
    "id": "Vl6Tg9UwNYLU",
    "outputId": "bb280c0c-cb87-4de9-9474-3ddc8da1ddbc"
   },
   "outputs": [
    {
     "name": "stderr",
     "output_type": "stream",
     "text": [
      "WARNING:absl:Found untraced functions such as _jit_compiled_convolution_op, _jit_compiled_convolution_op, _jit_compiled_convolution_op, _jit_compiled_convolution_op, _jit_compiled_convolution_op while saving (showing 5 of 53). These functions will not be directly callable after loading.\n"
     ]
    },
    {
     "name": "stdout",
     "output_type": "stream",
     "text": [
      "INFO:tensorflow:Assets written to: C:\\Users\\steve\\AppData\\Local\\Temp\\tmp4pnd9lek\\assets\n"
     ]
    },
    {
     "name": "stderr",
     "output_type": "stream",
     "text": [
      "INFO:tensorflow:Assets written to: C:\\Users\\steve\\AppData\\Local\\Temp\\tmp4pnd9lek\\assets\n",
      "C:\\Users\\steve\\.conda\\envs\\tf\\lib\\site-packages\\tensorflow\\lite\\python\\convert.py:766: UserWarning: Statistics for quantized inputs were expected, but not specified; continuing anyway.\n",
      "  warnings.warn(\"Statistics for quantized inputs were expected, but not \"\n"
     ]
    }
   ],
   "source": [
    "# 2. full integer post-training quantization\n",
    "import numpy as np\n",
    "def representative_data_gen():\n",
    "    yield [x] # test할 이미지 1개만 사용\n",
    "\n",
    "converter = tf.lite.TFLiteConverter.from_keras_model(imagenet)\n",
    "\n",
    "converter.optimizations = [tf.lite.Optimize.DEFAULT]\n",
    "converter.representative_dataset = representative_data_gen\n",
    "# Ensure that if any ops can't be quantized, the converter throws an error\n",
    "converter.target_spec.supported_ops = [tf.lite.OpsSet.TFLITE_BUILTINS_INT8]\n",
    "# Set the input and output tensors to uint8 (APIs added in r2.3)\n",
    "converter.inference_input_type = tf.uint8\n",
    "converter.inference_output_type = tf.uint8\n",
    "\n",
    "post_quant_imagenet_tflite = converter.convert()"
   ]
  },
  {
   "cell_type": "code",
   "execution_count": 20,
   "metadata": {
    "id": "TsexvPr1NYLU",
    "outputId": "d20d7440-256b-4f4a-b04e-88522fb15f0e"
   },
   "outputs": [
    {
     "name": "stderr",
     "output_type": "stream",
     "text": [
      "100%|████████████████████████████████████████████████████████████████████████████████████| 1/1 [00:27<00:00, 27.00s/it]"
     ]
    },
    {
     "name": "stdout",
     "output_type": "stream",
     "text": [
      "Predicted: [('n02782093', 'balloon', 239), ('n04023962', 'punching_bag', 13), ('n03544143', 'hourglass', 1)]\n"
     ]
    },
    {
     "name": "stderr",
     "output_type": "stream",
     "text": [
      "\n"
     ]
    }
   ],
   "source": [
    "# 3. make interpreter and do inference\n",
    "# tflite 모델로 interpreter 만듦\n",
    "post_quant_imagenet_interpreter = tf.lite.Interpreter(model_content=post_quant_imagenet_tflite)\n",
    "\n",
    "post_quant_imagenet_interpreter.allocate_tensors()\n",
    "\n",
    "preds = evaluate_model_practice(post_quant_imagenet_interpreter, x)\n",
    "print('Predicted:', decode_predictions(preds, top=3)[0])"
   ]
  },
  {
   "cell_type": "code",
   "execution_count": 21,
   "metadata": {
    "id": "i82UGHeONYLU",
    "outputId": "5d3f0897-b103-407a-976b-05f0e596d8c9"
   },
   "outputs": [
    {
     "name": "stdout",
     "output_type": "stream",
     "text": [
      "Float model: 97.430 MB\n",
      "Quantized model: 25.079 MB\n",
      "Quantized model: 0.26 x Float model size\n"
     ]
    }
   ],
   "source": [
    "# Measure sizes of models.\n",
    "_, imagenet_tflite_file = tempfile.mkstemp('.tflite')\n",
    "_, post_quant_imagenet_tflite_file = tempfile.mkstemp('.tflite')\n",
    "\n",
    "\n",
    "with open(tflite_file, 'wb') as f:\n",
    "    f.write(imagenet_tflite)\n",
    "\n",
    "with open(post_quant_tflite_file, 'wb') as f:\n",
    "    f.write(post_quant_imagenet_tflite)\n",
    "\n",
    "\n",
    "tflite_qat_size = os.path.getsize(tflite_file) / float(2**20)\n",
    "quantized_size = os.path.getsize(post_quant_tflite_file) / float(2**20)\n",
    "    \n",
    "print(f\"Float model: {tflite_qat_size:.03f} MB\")\n",
    "print(f\"Quantized model: {quantized_size:.03f} MB\")\n",
    "print(f\"Quantized model: {quantized_size/tflite_qat_size:.02f} x Float model size\", )"
   ]
  },
  {
   "cell_type": "markdown",
   "metadata": {
    "id": "ZeVMAXWONYLU"
   },
   "source": [
    "### 1-2. [Quantization Aware Training(QAT)](https://blog.tensorflow.org/2020/04/quantization-aware-training-with-tensorflow-model-optimization-toolkit.html)\n",
    "\n",
    "수업 시간에 배웠 듯이 QAT는 나중에 quantization을 할 것이라는 것을 가정하고 학습하는 것이다. scratch부터 학습해도 되지만, 이미 학습된 모델을 fine tuning 하는 것이 좋다고 한다."
   ]
  },
  {
   "cell_type": "code",
   "execution_count": 22,
   "metadata": {
    "id": "In_3zJVhNYLU"
   },
   "outputs": [
    {
     "name": "stderr",
     "output_type": "stream",
     "text": [
      "WARNING: Ignoring invalid distribution -pencv-python (c:\\users\\steve\\.conda\\envs\\tf\\lib\\site-packages)\n",
      "WARNING: Ignoring invalid distribution -pencv-python (c:\\users\\steve\\.conda\\envs\\tf\\lib\\site-packages)\n",
      "WARNING: Ignoring invalid distribution -pencv-python (c:\\users\\steve\\.conda\\envs\\tf\\lib\\site-packages)\n",
      "WARNING: Ignoring invalid distribution -pencv-python (c:\\users\\steve\\.conda\\envs\\tf\\lib\\site-packages)\n",
      "WARNING: Ignoring invalid distribution -pencv-python (c:\\users\\steve\\.conda\\envs\\tf\\lib\\site-packages)\n",
      "WARNING: Ignoring invalid distribution -pencv-python (c:\\users\\steve\\.conda\\envs\\tf\\lib\\site-packages)\n"
     ]
    }
   ],
   "source": [
    "!pip install -q tensorflow-model-optimization"
   ]
  },
  {
   "cell_type": "code",
   "execution_count": 23,
   "metadata": {
    "id": "XVtLikZDNYLU"
   },
   "outputs": [],
   "source": [
    "import tensorflow_model_optimization as tfmot"
   ]
  },
  {
   "cell_type": "markdown",
   "metadata": {
    "id": "s2UtsSzgNYLU"
   },
   "source": [
    "### Quantize whole model\n",
    "\n",
    "Edge TPU와 같이 fully quantized 모델이 필요한 경우에는 전체 모델에 대해 QAT를 한다."
   ]
  },
  {
   "cell_type": "markdown",
   "metadata": {
    "id": "0NFDWfg8NYLU"
   },
   "source": [
    "위에서 학습한 float32모델로 QAT를 해볼 것이다.`quantize_model`함수를 이용한다."
   ]
  },
  {
   "cell_type": "code",
   "execution_count": 24,
   "metadata": {
    "id": "9mdw7xLDNYLU",
    "outputId": "73563958-d821-424d-af6c-aa13dae53d88",
    "scrolled": true
   },
   "outputs": [
    {
     "name": "stdout",
     "output_type": "stream",
     "text": [
      "Model: \"sequential\"\n",
      "_________________________________________________________________\n",
      " Layer (type)                Output Shape              Param #   \n",
      "=================================================================\n",
      " quantize_layer (QuantizeLay  (None, 28, 28)           3         \n",
      " er)                                                             \n",
      "                                                                 \n",
      " quant_reshape (QuantizeWrap  (None, 28, 28, 1)        1         \n",
      " perV2)                                                          \n",
      "                                                                 \n",
      " quant_conv2d (QuantizeWrapp  (None, 28, 28, 16)       195       \n",
      " erV2)                                                           \n",
      "                                                                 \n",
      " quant_max_pooling2d (Quanti  (None, 14, 14, 16)       1         \n",
      " zeWrapperV2)                                                    \n",
      "                                                                 \n",
      " quant_conv2d_1 (QuantizeWra  (None, 14, 14, 32)       4707      \n",
      " pperV2)                                                         \n",
      "                                                                 \n",
      " quant_max_pooling2d_1 (Quan  (None, 7, 7, 32)         1         \n",
      " tizeWrapperV2)                                                  \n",
      "                                                                 \n",
      " quant_flatten (QuantizeWrap  (None, 1568)             1         \n",
      " perV2)                                                          \n",
      "                                                                 \n",
      " quant_dense (QuantizeWrappe  (None, 10)               15695     \n",
      " rV2)                                                            \n",
      "                                                                 \n",
      "=================================================================\n",
      "Total params: 20,604\n",
      "Trainable params: 20,490\n",
      "Non-trainable params: 114\n",
      "_________________________________________________________________\n"
     ]
    }
   ],
   "source": [
    "quant_aware_model = tfmot.quantization.keras.quantize_model(model)\n",
    "\n",
    "# `quantize_model` requires a recompile.\n",
    "quant_aware_model.compile(optimizer='adam',\n",
    "                  loss=tf.keras.losses.SparseCategoricalCrossentropy(from_logits=False),\n",
    "                  metrics=['accuracy'])\n",
    "\n",
    "quant_aware_model.summary()"
   ]
  },
  {
   "cell_type": "markdown",
   "metadata": {
    "id": "ZWeJ62xPNYLU"
   },
   "source": [
    "layer에 quant가 붙은 것을 확인할 수 있다. 그 다음으로는, data의 일부를 이용해서 fine tuning 한다."
   ]
  },
  {
   "cell_type": "code",
   "execution_count": 25,
   "metadata": {
    "id": "febVafykNYLU",
    "outputId": "e6f59317-2581-428e-ee5a-6a9cc84f20cd",
    "scrolled": true
   },
   "outputs": [
    {
     "name": "stdout",
     "output_type": "stream",
     "text": [
      "Epoch 1/10\n",
      "108/108 [==============================] - 7s 56ms/step - loss: 0.1597 - accuracy: 0.9440 - val_loss: 0.2357 - val_accuracy: 0.9170\n",
      "Epoch 2/10\n",
      "108/108 [==============================] - 6s 54ms/step - loss: 0.1537 - accuracy: 0.9453 - val_loss: 0.2372 - val_accuracy: 0.9158\n",
      "Epoch 3/10\n",
      "108/108 [==============================] - 6s 54ms/step - loss: 0.1494 - accuracy: 0.9470 - val_loss: 0.2382 - val_accuracy: 0.9152\n",
      "Epoch 4/10\n",
      "108/108 [==============================] - 6s 54ms/step - loss: 0.1493 - accuracy: 0.9466 - val_loss: 0.2405 - val_accuracy: 0.9148\n",
      "Epoch 5/10\n",
      "108/108 [==============================] - 6s 54ms/step - loss: 0.1457 - accuracy: 0.9489 - val_loss: 0.2396 - val_accuracy: 0.9153\n",
      "Epoch 6/10\n",
      "108/108 [==============================] - 6s 54ms/step - loss: 0.1428 - accuracy: 0.9497 - val_loss: 0.2455 - val_accuracy: 0.9162\n",
      "Epoch 7/10\n",
      "108/108 [==============================] - 6s 54ms/step - loss: 0.1403 - accuracy: 0.9503 - val_loss: 0.2377 - val_accuracy: 0.9165\n",
      "Epoch 8/10\n",
      "108/108 [==============================] - 6s 54ms/step - loss: 0.1387 - accuracy: 0.9510 - val_loss: 0.2435 - val_accuracy: 0.9152\n",
      "Epoch 9/10\n",
      "108/108 [==============================] - 6s 54ms/step - loss: 0.1379 - accuracy: 0.9514 - val_loss: 0.2428 - val_accuracy: 0.9155\n",
      "Epoch 10/10\n",
      "108/108 [==============================] - 6s 56ms/step - loss: 0.1361 - accuracy: 0.9522 - val_loss: 0.2471 - val_accuracy: 0.9158\n",
      "Epoch 1/10\n",
      "108/108 [==============================] - 3s 28ms/step - loss: 0.1563 - accuracy: 0.9450 - val_loss: 0.2328 - val_accuracy: 0.9172\n",
      "Epoch 2/10\n",
      "108/108 [==============================] - 3s 28ms/step - loss: 0.1506 - accuracy: 0.9473 - val_loss: 0.2342 - val_accuracy: 0.9162\n",
      "Epoch 3/10\n",
      "108/108 [==============================] - 3s 26ms/step - loss: 0.1487 - accuracy: 0.9476 - val_loss: 0.2344 - val_accuracy: 0.9157\n",
      "Epoch 4/10\n",
      "108/108 [==============================] - 3s 26ms/step - loss: 0.1481 - accuracy: 0.9477 - val_loss: 0.2350 - val_accuracy: 0.9165\n",
      "Epoch 5/10\n",
      "108/108 [==============================] - 3s 28ms/step - loss: 0.1466 - accuracy: 0.9486 - val_loss: 0.2349 - val_accuracy: 0.9163\n",
      "Epoch 6/10\n",
      "108/108 [==============================] - 3s 27ms/step - loss: 0.1453 - accuracy: 0.9489 - val_loss: 0.2355 - val_accuracy: 0.9175\n",
      "Epoch 7/10\n",
      "108/108 [==============================] - 3s 27ms/step - loss: 0.1448 - accuracy: 0.9494 - val_loss: 0.2357 - val_accuracy: 0.9172\n",
      "Epoch 8/10\n",
      "108/108 [==============================] - 3s 27ms/step - loss: 0.1432 - accuracy: 0.9500 - val_loss: 0.2339 - val_accuracy: 0.9168\n",
      "Epoch 9/10\n",
      "108/108 [==============================] - 3s 26ms/step - loss: 0.1430 - accuracy: 0.9495 - val_loss: 0.2368 - val_accuracy: 0.9162\n",
      "Epoch 10/10\n",
      "108/108 [==============================] - 3s 27ms/step - loss: 0.1414 - accuracy: 0.9505 - val_loss: 0.2370 - val_accuracy: 0.9160\n"
     ]
    },
    {
     "data": {
      "text/plain": [
       "<keras.callbacks.History at 0x170e3437790>"
      ]
     },
     "execution_count": 25,
     "metadata": {},
     "output_type": "execute_result"
    }
   ],
   "source": [
    "# data 일부를 이용해서 fine tuning\n",
    "train_images_subset = train_images[0:1000] # out of 60000\n",
    "train_labels_subset = train_labels[0:1000]\n",
    "\n",
    "quant_aware_model.fit(train_images, train_labels, batch_size=500, epochs=10, validation_split=0.1)\n",
    "model.fit(train_images, train_labels, batch_size=500, epochs=10, validation_split=0.1)"
   ]
  },
  {
   "cell_type": "markdown",
   "metadata": {
    "id": "jSRDH6ZSNYLU"
   },
   "source": [
    "아직 quantization을 하지 않았으므로 weight은 실수이다."
   ]
  },
  {
   "cell_type": "code",
   "execution_count": 26,
   "metadata": {
    "id": "ERulZV21NYLU",
    "outputId": "f433e826-5220-4dc3-ed23-f55406ec6988",
    "scrolled": true
   },
   "outputs": [
    {
     "data": {
      "text/plain": [
       "[array([[[[-2.97805928e-02, -7.43684113e-01, -2.74659488e-02,\n",
       "           -3.36150527e-01, -1.51646242e-01,  2.80483454e-01,\n",
       "           -3.75585333e-02,  4.74252820e-01, -1.58959344e-01,\n",
       "            3.64487827e-01,  7.50890374e-02,  1.80487379e-01,\n",
       "           -4.17069763e-01,  5.73657341e-02, -4.25913185e-01,\n",
       "            6.07960746e-02]],\n",
       " \n",
       "         [[ 4.22853321e-01,  4.99973953e-01, -5.77079117e-01,\n",
       "            1.63602322e-01, -3.52849871e-01,  5.39748073e-01,\n",
       "            3.13947350e-01,  5.41177243e-02, -3.15265089e-01,\n",
       "            4.79595333e-01, -1.02142207e-01, -4.15292531e-01,\n",
       "           -2.87013054e-02,  2.50699997e-01, -6.11357868e-01,\n",
       "           -8.99027511e-02]],\n",
       " \n",
       "         [[-7.17292652e-02,  1.78618535e-01, -2.41443440e-01,\n",
       "            2.24919006e-01,  5.02402596e-02, -6.94538057e-01,\n",
       "           -2.02082738e-01, -5.22242486e-01,  4.98584688e-01,\n",
       "            3.93959075e-01,  8.95497389e-03,  3.00242126e-01,\n",
       "            1.50624916e-01,  2.65799791e-01, -1.46604791e-01,\n",
       "           -7.11415634e-02]]],\n",
       " \n",
       " \n",
       "        [[[ 5.29776141e-02,  3.08418095e-01,  6.41792357e-01,\n",
       "           -6.32075250e-01,  3.93101484e-01,  2.33841315e-01,\n",
       "           -2.22679958e-01,  2.02334195e-01,  5.45648113e-02,\n",
       "            1.39931560e-01, -7.84161761e-02, -3.38099360e-01,\n",
       "           -5.86386859e-01, -3.21117304e-02,  3.54727149e-01,\n",
       "           -5.64553775e-02]],\n",
       " \n",
       "         [[-2.15990059e-02,  2.50625670e-01,  6.36176988e-02,\n",
       "            4.10803229e-01,  2.02058122e-01,  2.58284509e-01,\n",
       "            1.09145567e-01, -2.20223777e-02, -4.24716949e-01,\n",
       "           -1.47864252e-01,  1.24147825e-01, -2.20476210e-01,\n",
       "           -1.25056073e-01,  1.87352106e-01,  3.74921620e-01,\n",
       "            4.08540696e-01]],\n",
       " \n",
       "         [[-2.19418430e+00, -6.39912337e-02,  1.18381746e-01,\n",
       "            1.97732553e-01, -4.10476923e-01, -2.28948995e-01,\n",
       "            4.53945249e-01, -1.81547463e-01,  3.42450231e-01,\n",
       "           -1.88950717e-01,  1.48650095e-01,  5.27823508e-01,\n",
       "            2.08693340e-01,  1.08162418e-01,  2.96067178e-01,\n",
       "           -6.16785474e-02]]],\n",
       " \n",
       " \n",
       "        [[[ 2.56848425e-01,  4.74823952e-01,  4.59408224e-01,\n",
       "           -2.60803699e-01, -1.43525407e-01,  2.66877562e-01,\n",
       "           -1.24529958e-01,  7.09825009e-02,  2.96956897e-01,\n",
       "           -2.43422300e-01,  1.84861347e-01, -4.21301842e-01,\n",
       "            2.96156168e-01, -1.21224314e-01,  6.29922599e-02,\n",
       "           -4.73084867e-01]],\n",
       " \n",
       "         [[-7.02704251e-01, -5.51396489e-01, -3.40292394e-01,\n",
       "            2.62337744e-01,  3.81009161e-01, -2.23676026e-01,\n",
       "           -4.36968774e-01, -1.21843174e-01, -1.66733682e-01,\n",
       "           -5.41026413e-01,  2.53711730e-01,  2.33094707e-01,\n",
       "            2.00024694e-01, -7.11484998e-02, -2.48354018e-01,\n",
       "            2.65889227e-01]],\n",
       " \n",
       "         [[-2.43265343e+00, -3.54748905e-01, -6.75887913e-02,\n",
       "           -5.22711256e-04,  1.96622103e-01, -2.40664735e-01,\n",
       "            2.81311721e-01,  7.51833320e-02, -1.26123250e-01,\n",
       "           -3.05313081e-01,  5.65091968e-02,  1.61916405e-01,\n",
       "            2.76342481e-01, -5.85289523e-02,  2.13585988e-01,\n",
       "            1.25739694e-01]]]], dtype=float32),\n",
       " array([ 0.20930149,  0.00711821,  0.00880488, -0.0046264 ,  0.00398198,\n",
       "        -0.01826496, -0.02187598, -0.00026163,  0.00670902, -0.0112316 ,\n",
       "        -0.04178863,  0.00905187,  0.06640767, -0.00070406,  0.0795297 ,\n",
       "        -0.0170257 ], dtype=float32),\n",
       " -1,\n",
       " array([-2.4325767 , -0.743827  , -0.6416965 , -0.63208836, -0.41081828,\n",
       "        -0.69466937, -0.45436475, -0.5221288 , -0.49856853, -0.5411715 ,\n",
       "        -0.25326955, -0.5277887 , -0.58620584, -0.2657407 , -0.61171055,\n",
       "        -0.47310513], dtype=float32),\n",
       " array([2.4325767 , 0.743827  , 0.6416965 , 0.63208836, 0.41081828,\n",
       "        0.69466937, 0.45436475, 0.5221288 , 0.49856853, 0.5411715 ,\n",
       "        0.25326955, 0.5277887 , 0.58620584, 0.2657407 , 0.61171055,\n",
       "        0.47310513], dtype=float32),\n",
       " -2.03647,\n",
       " 2.9824297]"
      ]
     },
     "execution_count": 26,
     "metadata": {},
     "output_type": "execute_result"
    }
   ],
   "source": [
    "quant_aware_model.layers[2].get_weights()"
   ]
  },
  {
   "cell_type": "markdown",
   "metadata": {
    "id": "OPynQSIBNYLV"
   },
   "source": [
    "실수 weight이므로 QAT를 한다고 해서 accuracy가 떨어지지 않는다."
   ]
  },
  {
   "cell_type": "code",
   "execution_count": 27,
   "metadata": {
    "id": "7Hn8ztCpNYLV",
    "outputId": "fc5a37b2-13a5-45c9-cb95-6d354e55dee7"
   },
   "outputs": [
    {
     "name": "stdout",
     "output_type": "stream",
     "text": [
      "Baseline test accuracy: 0.9157000184059143\n",
      "QAT test accuracy: 0.9136000275611877\n"
     ]
    }
   ],
   "source": [
    "_, baseline_model_accuracy = model.evaluate(\n",
    "    test_images, test_labels, verbose=0)\n",
    "\n",
    "_, quant_aware_model_accuracy = quant_aware_model.evaluate(\n",
    "   test_images, test_labels, verbose=0)\n",
    "\n",
    "print('Baseline test accuracy:', baseline_model_accuracy)\n",
    "print('QAT test accuracy:', quant_aware_model_accuracy)"
   ]
  },
  {
   "cell_type": "markdown",
   "metadata": {
    "id": "Qhw2P9JSNYLV"
   },
   "source": [
    "이제 QAT로 학습한 모델을 quantization 해보자. post-training quantization과 비슷하게 TFLiteConverter를 이용하면 된다."
   ]
  },
  {
   "cell_type": "code",
   "execution_count": 28,
   "metadata": {
    "id": "ix9ebDT8NYLV",
    "outputId": "0e172d49-59ad-4f20-e445-4e0fd3dcfc38",
    "scrolled": true
   },
   "outputs": [
    {
     "name": "stderr",
     "output_type": "stream",
     "text": [
      "WARNING:absl:Found untraced functions such as reshape_layer_call_fn, reshape_layer_call_and_return_conditional_losses, conv2d_layer_call_fn, conv2d_layer_call_and_return_conditional_losses, _jit_compiled_convolution_op while saving (showing 5 of 12). These functions will not be directly callable after loading.\n"
     ]
    },
    {
     "name": "stdout",
     "output_type": "stream",
     "text": [
      "INFO:tensorflow:Assets written to: C:\\Users\\steve\\AppData\\Local\\Temp\\tmp2crpxhln\\assets\n"
     ]
    },
    {
     "name": "stderr",
     "output_type": "stream",
     "text": [
      "INFO:tensorflow:Assets written to: C:\\Users\\steve\\AppData\\Local\\Temp\\tmp2crpxhln\\assets\n",
      "C:\\Users\\steve\\.conda\\envs\\tf\\lib\\site-packages\\tensorflow\\lite\\python\\convert.py:766: UserWarning: Statistics for quantized inputs were expected, but not specified; continuing anyway.\n",
      "  warnings.warn(\"Statistics for quantized inputs were expected, but not \"\n"
     ]
    }
   ],
   "source": [
    "converter = tf.lite.TFLiteConverter.from_keras_model(quant_aware_model)\n",
    "\n",
    "converter.optimizations = [tf.lite.Optimize.DEFAULT]\n",
    "# Set the input and output tensors to uint8 (APIs added in r2.3)\n",
    "converter.inference_input_type = tf.uint8 # or tf.int8\n",
    "converter.inference_output_type = tf.uint8 # or tf.int8\n",
    "\n",
    "\n",
    "QAT_tflite_model = converter.convert()"
   ]
  },
  {
   "cell_type": "markdown",
   "metadata": {
    "id": "HrsYcEatNYLV"
   },
   "source": [
    "quantization을 해도 accuracy가 떨어지지 않는 것을 알 수 있다."
   ]
  },
  {
   "cell_type": "code",
   "execution_count": 29,
   "metadata": {
    "id": "pkzQZbvpNYLV",
    "outputId": "d7265216-219d-4f7b-d719-1193f274e388"
   },
   "outputs": [
    {
     "name": "stderr",
     "output_type": "stream",
     "text": [
      "100%|███████████████████████████████████████████████████████████████████████████| 10000/10000 [01:15<00:00, 132.59it/s]"
     ]
    },
    {
     "name": "stdout",
     "output_type": "stream",
     "text": [
      "\n",
      "Baseline test accuracy: 0.9157000184059143\n",
      "Post-training Quantized test accuracy: 0.9072\n",
      "Quantization-Aware Training test accuracy: 0.9133\n"
     ]
    },
    {
     "name": "stderr",
     "output_type": "stream",
     "text": [
      "\n"
     ]
    }
   ],
   "source": [
    "QAT_interpreter = tf.lite.Interpreter(model_content=QAT_tflite_model)\n",
    "QAT_interpreter.allocate_tensors()\n",
    "\n",
    "QAT_test_accuracy, output = evaluate_model(QAT_interpreter)\n",
    "\n",
    "print('Baseline test accuracy:', baseline_model_accuracy)\n",
    "print('Post-training Quantized test accuracy:', post_quant_tflite_test_accuracy)\n",
    "print('Quantization-Aware Training test accuracy:', QAT_test_accuracy)\n"
   ]
  },
  {
   "cell_type": "markdown",
   "metadata": {
    "id": "U9HCVzztNYLV"
   },
   "source": [
    "마찬가지로 크기가 1/4로 줄어든 것을 알 수 있다."
   ]
  },
  {
   "cell_type": "code",
   "execution_count": 30,
   "metadata": {
    "id": "BEP3F5oGNYLV",
    "outputId": "527cf46f-8e72-4f59-df08-9dc1d98299b4"
   },
   "outputs": [
    {
     "name": "stdout",
     "output_type": "stream",
     "text": [
      "Float tflite model: 0.082 MB\n",
      "Quantized QAT model: 0.026 MB\n",
      "Quantized QAT model: 0.32 x Float model size\n"
     ]
    }
   ],
   "source": [
    "# create temp file\n",
    "_, QAT_tflite_file = tempfile.mkstemp('.tflite')\n",
    "\n",
    "with open(QAT_tflite_file, 'wb') as f:\n",
    "    f.write(QAT_tflite_model)\n",
    "    \n",
    "    \n",
    "quantized_size = os.path.getsize(QAT_tflite_file) / float(2**20)\n",
    "\n",
    "print(f\"Float tflite model: {tflite_size:.03f} MB\")\n",
    "print(f\"Quantized QAT model: {quantized_size:.03f} MB\")\n",
    "print(f\"Quantized QAT model: {quantized_size/tflite_size:.02f} x Float model size\", )"
   ]
  },
  {
   "cell_type": "markdown",
   "metadata": {
    "id": "OSmrspWkNYLV"
   },
   "source": [
    "### Quantize some layers\n",
    "\n",
    "Edge TPU 등 특별한 하드웨어가 아닌 경우에는 선택적으로 layer를 quantization할 수도 있다.\n",
    "\n",
    "**Tips for better accuracy**\n",
    "* from scratch보다는 fine tuning\n",
    "* 뒤쪽 layer를 quantization 하기\n",
    "* 특별히 중요한 layer는 quantization 피하기\n"
   ]
  },
  {
   "cell_type": "markdown",
   "metadata": {
    "id": "3w9grImZNYLV"
   },
   "source": [
    "`quantize_annotate_layer` 함수를 이용해서 특정 layer를 quantization할 것이라고 표시한다."
   ]
  },
  {
   "cell_type": "code",
   "execution_count": 31,
   "metadata": {
    "id": "uFUH1L8oNYLV",
    "outputId": "47fb86dc-ad59-4107-eccd-5b4b82bbb166"
   },
   "outputs": [
    {
     "data": {
      "text/plain": [
       "'dense'"
      ]
     },
     "execution_count": 31,
     "metadata": {},
     "output_type": "execute_result"
    }
   ],
   "source": [
    "model.layers[-1].name"
   ]
  },
  {
   "cell_type": "code",
   "execution_count": 32,
   "metadata": {
    "id": "v8DAiFDeNYLV"
   },
   "outputs": [],
   "source": [
    "# Helper Function\n",
    "def apply_quantization_to_dense(layer):\n",
    "    # if isinstance(layer, tf.keras.layers.Dense)\n",
    "    if layer.name == 'dense':\n",
    "        return tfmot.quantization.keras.quantize_annotate_layer(layer)\n",
    "    else:\n",
    "        return layer"
   ]
  },
  {
   "cell_type": "markdown",
   "metadata": {
    "id": "l63Ds75iNYLV"
   },
   "source": [
    "`clone_model` 함수와 helper function을 이용해서 annotated model을 만들고, `quantize_apply`함수를 이용해서 QAT를 위한 모델을 만들면 된다."
   ]
  },
  {
   "cell_type": "code",
   "execution_count": 33,
   "metadata": {
    "id": "whCWT5fHNYLV",
    "outputId": "bd3163f5-a5f3-4bb4-c394-8559e558aede",
    "scrolled": true
   },
   "outputs": [
    {
     "name": "stdout",
     "output_type": "stream",
     "text": [
      "Model: \"sequential\"\n",
      "_________________________________________________________________\n",
      " Layer (type)                Output Shape              Param #   \n",
      "=================================================================\n",
      " reshape (Reshape)           (None, 28, 28, 1)         0         \n",
      "                                                                 \n",
      " conv2d (Conv2D)             (None, 28, 28, 16)        160       \n",
      "                                                                 \n",
      " max_pooling2d (MaxPooling2D  (None, 14, 14, 16)       0         \n",
      " )                                                               \n",
      "                                                                 \n",
      " conv2d_1 (Conv2D)           (None, 14, 14, 32)        4640      \n",
      "                                                                 \n",
      " max_pooling2d_1 (MaxPooling  (None, 7, 7, 32)         0         \n",
      " 2D)                                                             \n",
      "                                                                 \n",
      " quant_flatten (QuantizeWrap  (None, 1568)             1         \n",
      " perV2)                                                          \n",
      "                                                                 \n",
      " quant_dense (QuantizeWrappe  (None, 10)               15695     \n",
      " rV2)                                                            \n",
      "                                                                 \n",
      "=================================================================\n",
      "Total params: 20,496\n",
      "Trainable params: 20,490\n",
      "Non-trainable params: 6\n",
      "_________________________________________________________________\n"
     ]
    }
   ],
   "source": [
    "annotated_model = tf.keras.models.clone_model(\n",
    "    model,\n",
    "    clone_function=apply_quantization_to_dense,\n",
    ")\n",
    "quant_aware_model = tfmot.quantization.keras.quantize_apply(annotated_model)\n",
    "quant_aware_model.summary()"
   ]
  },
  {
   "cell_type": "markdown",
   "metadata": {
    "id": "LsgEGC0GNYLV"
   },
   "source": [
    "만약 fine tuning이 아니라 처음부터 모델을 만드는 것이면 다음과 같이 모델을 만들면 된다."
   ]
  },
  {
   "cell_type": "markdown",
   "metadata": {
    "id": "IxbhoMR9NYLW"
   },
   "source": [
    "**Sequential example**"
   ]
  },
  {
   "cell_type": "code",
   "execution_count": 34,
   "metadata": {
    "id": "qv3NwBeNNYLW",
    "outputId": "2fa297ed-d464-4b8e-ee60-069f19321be5"
   },
   "outputs": [
    {
     "name": "stdout",
     "output_type": "stream",
     "text": [
      "Model: \"sequential_1\"\n",
      "_________________________________________________________________\n",
      " Layer (type)                Output Shape              Param #   \n",
      "=================================================================\n",
      " reshape_1 (Reshape)         (None, 28, 28, 1)         0         \n",
      "                                                                 \n",
      " conv2d_2 (Conv2D)           (None, 26, 26, 12)        120       \n",
      "                                                                 \n",
      " max_pooling2d_2 (MaxPooling  (None, 13, 13, 12)       0         \n",
      " 2D)                                                             \n",
      "                                                                 \n",
      " quant_flatten_1 (QuantizeWr  (None, 2028)             1         \n",
      " apperV2)                                                        \n",
      "                                                                 \n",
      " quant_dense_1 (QuantizeWrap  (None, 10)               20295     \n",
      " perV2)                                                          \n",
      "                                                                 \n",
      "=================================================================\n",
      "Total params: 20,416\n",
      "Trainable params: 20,410\n",
      "Non-trainable params: 6\n",
      "_________________________________________________________________\n"
     ]
    }
   ],
   "source": [
    "annotated_model = tf.keras.Sequential([\n",
    "  tf.keras.layers.InputLayer(input_shape=(28, 28)),\n",
    "  tf.keras.layers.Reshape(target_shape=(28, 28, 1)),\n",
    "  tf.keras.layers.Conv2D(filters=12, kernel_size=(3, 3), activation='relu'),\n",
    "  tf.keras.layers.MaxPooling2D(pool_size=(2, 2)),\n",
    "  tf.keras.layers.Flatten(),\n",
    "  tfmot.quantization.keras.quantize_annotate_layer(tf.keras.layers.Dense(10))\n",
    "])\n",
    "quant_aware_model = tfmot.quantization.keras.quantize_apply(annotated_model)\n",
    "\n",
    "quant_aware_model.summary()"
   ]
  },
  {
   "cell_type": "markdown",
   "metadata": {
    "id": "tY2OlJAgNYLW"
   },
   "source": [
    "**Functional example**"
   ]
  },
  {
   "cell_type": "code",
   "execution_count": 35,
   "metadata": {
    "id": "h08zY1pVNYLW",
    "outputId": "afb558a7-ab6c-47cb-90d1-87f923cf6b67"
   },
   "outputs": [
    {
     "name": "stdout",
     "output_type": "stream",
     "text": [
      "Model: \"model\"\n",
      "_________________________________________________________________\n",
      " Layer (type)                Output Shape              Param #   \n",
      "=================================================================\n",
      " input_4 (InputLayer)        [(None, 28, 28)]          0         \n",
      "                                                                 \n",
      " quant_reshape_2 (QuantizeWr  (None, 28, 28, 1)        1         \n",
      " apperV2)                                                        \n",
      "                                                                 \n",
      " quant_conv2d_3 (QuantizeWra  (None, 26, 26, 12)       147       \n",
      " pperV2)                                                         \n",
      "                                                                 \n",
      " max_pooling2d_3 (MaxPooling  (None, 13, 13, 12)       0         \n",
      " 2D)                                                             \n",
      "                                                                 \n",
      " flatten_2 (Flatten)         (None, 2028)              0         \n",
      "                                                                 \n",
      " dense_2 (Dense)             (None, 10)                20290     \n",
      "                                                                 \n",
      "=================================================================\n",
      "Total params: 20,438\n",
      "Trainable params: 20,410\n",
      "Non-trainable params: 28\n",
      "_________________________________________________________________\n"
     ]
    }
   ],
   "source": [
    "inputs = tf.keras.Input(shape=(28, 28))\n",
    "x = tf.keras.layers.Reshape(target_shape=(28, 28, 1))(inputs)\n",
    "x = tfmot.quantization.keras.quantize_annotate_layer(tf.keras.layers.Conv2D(filters=12, kernel_size=(3, 3), activation='relu'))(x)\n",
    "x = tf.keras.layers.MaxPooling2D(pool_size=(2, 2))(x)\n",
    "x = tf.keras.layers.Flatten()(x)\n",
    "outputs = tf.keras.layers.Dense(10)(x)\n",
    "\n",
    "annotated_model = tf.keras.Model(inputs=inputs, outputs=outputs)\n",
    "\n",
    "quant_aware_model = tfmot.quantization.keras.quantize_apply(annotated_model)\n",
    "\n",
    "quant_aware_model.summary()"
   ]
  },
  {
   "cell_type": "markdown",
   "metadata": {
    "id": "mxfhZjYINYLW"
   },
   "source": [
    "## 2. [Pruning](https://blog.tensorflow.org/2019/05/tf-model-optimization-toolkit-pruning-API.html)\n",
    "\n",
    "pruning은 불필요한(0에 가까운) weight을 0으로 만들어 없애면서 optimize를 한다."
   ]
  },
  {
   "cell_type": "markdown",
   "metadata": {
    "id": "P24wmByjNYLW"
   },
   "source": [
    "`tfmot.sparsity.keras.prune_low_magnitude`을 이용해서 모델을 만든다. 이 때, pruning 방식인 `tfmot.sparsity.keras.PolynomialDecay` 을 parameter로 넘겨준다. 다음과 같은 hyperparemeter가 있다.\n",
    "* `initial_sparsity`: pruning을 시작할 때의 sparsity를 몇으로 할 지\n",
    "* `final_sparsity`: pruning을 끝낼 때의 sparsity를 몇으로 할 지\n",
    "* `begin_step`: pruning을 언제부터 진행할 지 (batch 단위의 step)\n",
    "* `end_step`: pruning을 언제 끝낼 지"
   ]
  },
  {
   "cell_type": "markdown",
   "metadata": {
    "id": "Zn1YDlqZNYLW"
   },
   "source": [
    "pruning을 하기 전에 baseline model을 저장하겠다. (크기 비교시 사용)"
   ]
  },
  {
   "cell_type": "code",
   "execution_count": 36,
   "metadata": {
    "id": "M_huVivXNYLW",
    "outputId": "48e5b16c-b5df-44c0-ab83-01563806766f"
   },
   "outputs": [
    {
     "name": "stdout",
     "output_type": "stream",
     "text": [
      "Baseline test accuracy: 0.9157000184059143\n",
      "Saved baseline model to: C:\\Users\\steve\\AppData\\Local\\Temp\\tmpkdn_znh2.h5\n"
     ]
    }
   ],
   "source": [
    "_, baseline_model_accuracy = model.evaluate(\n",
    "    test_images, test_labels, verbose=0)\n",
    "\n",
    "print('Baseline test accuracy:', baseline_model_accuracy)\n",
    "\n",
    "_, keras_file = tempfile.mkstemp('.h5')\n",
    "tf.keras.models.save_model(model, keras_file, include_optimizer=False)\n",
    "print('Saved baseline model to:', keras_file)"
   ]
  },
  {
   "cell_type": "code",
   "execution_count": 37,
   "metadata": {
    "id": "q0FjBTcbNYLW",
    "outputId": "b8839313-d4f6-4c17-c16b-acced2803ba1",
    "scrolled": true
   },
   "outputs": [
    {
     "name": "stdout",
     "output_type": "stream",
     "text": [
      "Model: \"sequential\"\n",
      "_________________________________________________________________\n",
      " Layer (type)                Output Shape              Param #   \n",
      "=================================================================\n",
      " prune_low_magnitude_reshape  (None, 28, 28, 1)        1         \n",
      "  (PruneLowMagnitude)                                            \n",
      "                                                                 \n",
      " prune_low_magnitude_conv2d   (None, 28, 28, 16)       306       \n",
      " (PruneLowMagnitude)                                             \n",
      "                                                                 \n",
      " prune_low_magnitude_max_poo  (None, 14, 14, 16)       1         \n",
      " ling2d (PruneLowMagnitude)                                      \n",
      "                                                                 \n",
      " prune_low_magnitude_conv2d_  (None, 14, 14, 32)       9250      \n",
      " 1 (PruneLowMagnitude)                                           \n",
      "                                                                 \n",
      " prune_low_magnitude_max_poo  (None, 7, 7, 32)         1         \n",
      " ling2d_1 (PruneLowMagnitude                                     \n",
      " )                                                               \n",
      "                                                                 \n",
      " prune_low_magnitude_flatten  (None, 1568)             1         \n",
      "  (PruneLowMagnitude)                                            \n",
      "                                                                 \n",
      " prune_low_magnitude_dense (  (None, 10)               31372     \n",
      " PruneLowMagnitude)                                              \n",
      "                                                                 \n",
      "=================================================================\n",
      "Total params: 40,932\n",
      "Trainable params: 20,490\n",
      "Non-trainable params: 20,442\n",
      "_________________________________________________________________\n"
     ]
    }
   ],
   "source": [
    "# Compute end step to finish pruning after 2 epochs.\n",
    "batch_size = 128\n",
    "epochs = 2\n",
    "validation_split = 0.1 # 10% of training set will be used for validation set. \n",
    "\n",
    "num_images = train_images.shape[0] * (1 - validation_split)\n",
    "end_step = np.ceil(num_images / batch_size).astype(np.int32) * epochs\n",
    "\n",
    "# Define model for pruning.\n",
    "pruning_params = {\n",
    "      'pruning_schedule': tfmot.sparsity.keras.PolynomialDecay(initial_sparsity=0.50,\n",
    "                                                               final_sparsity=0.80,\n",
    "                                                               begin_step=0,\n",
    "                                                               end_step=end_step)\n",
    "}\n",
    "\n",
    "prune_low_magnitude = tfmot.sparsity.keras.prune_low_magnitude\n",
    "model_for_pruning = prune_low_magnitude(model, **pruning_params)\n",
    "\n",
    "# `prune_low_magnitude` requires a recompile.\n",
    "model_for_pruning.compile(optimizer='adam',\n",
    "              loss=tf.keras.losses.SparseCategoricalCrossentropy(from_logits=True),\n",
    "              metrics=['accuracy'])\n",
    "\n",
    "model_for_pruning.summary()"
   ]
  },
  {
   "cell_type": "markdown",
   "metadata": {
    "id": "xtvDVmnfNYLW"
   },
   "source": [
    "`fit`을 할 때, `tfmot.sparsity.keras.UpdatePruningStep`을 callback으로 불러야 한다"
   ]
  },
  {
   "cell_type": "code",
   "execution_count": 38,
   "metadata": {
    "id": "F5bI6NLfNYLW",
    "outputId": "1fabe947-90cd-45c6-b4e0-15317c9b972e"
   },
   "outputs": [
    {
     "name": "stdout",
     "output_type": "stream",
     "text": [
      "Epoch 1/2\n"
     ]
    },
    {
     "name": "stderr",
     "output_type": "stream",
     "text": [
      "C:\\Users\\steve\\.conda\\envs\\tf\\lib\\site-packages\\tensorflow\\python\\util\\dispatch.py:1082: UserWarning: \"`sparse_categorical_crossentropy` received `from_logits=True`, but the `output` argument was produced by a sigmoid or softmax activation and thus does not represent logits. Was this intended?\"\n",
      "  return dispatch_target(*args, **kwargs)\n"
     ]
    },
    {
     "name": "stdout",
     "output_type": "stream",
     "text": [
      "  6/422 [..............................] - ETA: 4s - loss: 0.1437 - accuracy: 0.9557   WARNING:tensorflow:Callback method `on_train_batch_end` is slow compared to the batch time (batch time: 0.0096s vs `on_train_batch_end` time: 0.0198s). Check your callbacks.\n"
     ]
    },
    {
     "name": "stderr",
     "output_type": "stream",
     "text": [
      "WARNING:tensorflow:Callback method `on_train_batch_end` is slow compared to the batch time (batch time: 0.0096s vs `on_train_batch_end` time: 0.0198s). Check your callbacks.\n"
     ]
    },
    {
     "name": "stdout",
     "output_type": "stream",
     "text": [
      "422/422 [==============================] - 13s 14ms/step - loss: 0.2628 - accuracy: 0.9038 - val_loss: 0.3353 - val_accuracy: 0.8822\n",
      "Epoch 2/2\n",
      "422/422 [==============================] - 5s 12ms/step - loss: 0.2813 - accuracy: 0.8979 - val_loss: 0.2912 - val_accuracy: 0.8970\n"
     ]
    },
    {
     "data": {
      "text/plain": [
       "<keras.callbacks.History at 0x170e39fc820>"
      ]
     },
     "execution_count": 38,
     "metadata": {},
     "output_type": "execute_result"
    }
   ],
   "source": [
    "logdir = tempfile.mkdtemp()\n",
    "\n",
    "callbacks = [\n",
    "  tfmot.sparsity.keras.UpdatePruningStep(),\n",
    "  tfmot.sparsity.keras.PruningSummaries(log_dir=logdir),\n",
    "]\n",
    "\n",
    "model_for_pruning.fit(train_images, train_labels,\n",
    "                  batch_size=batch_size, epochs=epochs, validation_split=validation_split,\n",
    "                  callbacks=callbacks)"
   ]
  },
  {
   "cell_type": "markdown",
   "metadata": {
    "id": "-Fpn4uJJNYLW"
   },
   "source": [
    "baseline 모델과 accuracy를 비교해 보자."
   ]
  },
  {
   "cell_type": "code",
   "execution_count": 39,
   "metadata": {
    "id": "XTqyfCXZNYLW",
    "outputId": "99107db0-9e79-4e6c-fffa-8cd822ee3394"
   },
   "outputs": [
    {
     "name": "stdout",
     "output_type": "stream",
     "text": [
      "Baseline test accuracy: 0.9157000184059143\n",
      "Pruned test accuracy: 0.8914999961853027\n"
     ]
    }
   ],
   "source": [
    "_, model_for_pruning_accuracy = model_for_pruning.evaluate(\n",
    "   test_images, test_labels, verbose=0)\n",
    "\n",
    "print('Baseline test accuracy:', baseline_model_accuracy) \n",
    "print('Pruned test accuracy:', model_for_pruning_accuracy)"
   ]
  },
  {
   "cell_type": "markdown",
   "metadata": {
    "id": "313XRqaQNYLW"
   },
   "source": [
    "pruned model의 크기가 줄어들었는 지 확인해 보자."
   ]
  },
  {
   "cell_type": "markdown",
   "metadata": {
    "id": "wQDN-jBoNYLW"
   },
   "source": [
    "위에 summary를 보면 pruning을 하기 위해 non-trainable parameter가 생긴 것을 알 수 있다. `tfmot.sparsity.keras.strip_pruning`을 이용해서 pruning에 사용한 variable을 제거해 준다."
   ]
  },
  {
   "cell_type": "code",
   "execution_count": 40,
   "metadata": {
    "id": "T0qJJJmNNYLX",
    "outputId": "386cf11e-47bd-4756-9fb5-b11f3338e04d",
    "scrolled": true
   },
   "outputs": [
    {
     "name": "stdout",
     "output_type": "stream",
     "text": [
      "WARNING:tensorflow:Compiled the loaded model, but the compiled metrics have yet to be built. `model.compile_metrics` will be empty until you train or evaluate the model.\n"
     ]
    },
    {
     "name": "stderr",
     "output_type": "stream",
     "text": [
      "WARNING:tensorflow:Compiled the loaded model, but the compiled metrics have yet to be built. `model.compile_metrics` will be empty until you train or evaluate the model.\n"
     ]
    },
    {
     "name": "stdout",
     "output_type": "stream",
     "text": [
      "Saved pruned Keras model to: C:\\Users\\steve\\AppData\\Local\\Temp\\tmp7ewcmwb9.h5\n"
     ]
    }
   ],
   "source": [
    "model_for_export = tfmot.sparsity.keras.strip_pruning(model_for_pruning)\n",
    "\n",
    "_, pruned_keras_file = tempfile.mkstemp('.h5')\n",
    "tf.keras.models.save_model(model_for_export, pruned_keras_file, include_optimizer=False)\n",
    "print('Saved pruned Keras model to:', pruned_keras_file)"
   ]
  },
  {
   "cell_type": "markdown",
   "metadata": {
    "id": "RGuJf_g_NYLX"
   },
   "source": [
    "tflite 으로 저장"
   ]
  },
  {
   "cell_type": "code",
   "execution_count": 41,
   "metadata": {
    "id": "U_ue9-QXNYLX",
    "outputId": "ea391b13-55c7-44b3-8ab6-6d97dded9bf5",
    "scrolled": true
   },
   "outputs": [
    {
     "name": "stderr",
     "output_type": "stream",
     "text": [
      "WARNING:absl:Found untraced functions such as _jit_compiled_convolution_op, _jit_compiled_convolution_op while saving (showing 2 of 2). These functions will not be directly callable after loading.\n"
     ]
    },
    {
     "name": "stdout",
     "output_type": "stream",
     "text": [
      "INFO:tensorflow:Assets written to: C:\\Users\\steve\\AppData\\Local\\Temp\\tmpkz7wp4_2\\assets\n"
     ]
    },
    {
     "name": "stderr",
     "output_type": "stream",
     "text": [
      "INFO:tensorflow:Assets written to: C:\\Users\\steve\\AppData\\Local\\Temp\\tmpkz7wp4_2\\assets\n"
     ]
    },
    {
     "name": "stdout",
     "output_type": "stream",
     "text": [
      "Saved pruned TFLite model to: C:\\Users\\steve\\AppData\\Local\\Temp\\tmp_4pclva_.tflite\n"
     ]
    }
   ],
   "source": [
    "converter = tf.lite.TFLiteConverter.from_keras_model(model_for_export)\n",
    "pruned_tflite_model = converter.convert()\n",
    "\n",
    "_, pruned_tflite_file = tempfile.mkstemp('.tflite')\n",
    "\n",
    "with open(pruned_tflite_file, 'wb') as f:\n",
    "    f.write(pruned_tflite_model)\n",
    "\n",
    "print('Saved pruned TFLite model to:', pruned_tflite_file)"
   ]
  },
  {
   "cell_type": "markdown",
   "metadata": {
    "id": "fY3QcdaPNYLX"
   },
   "source": [
    "pruning을 해도 weight matrix의 크기는 그대로이다. 하지만 matrix의 값이 대부분 0이기 때문에 감소된 크기를 확인하려면 실제로 zip파일 등으로 압축하는 과정을 거쳐야 한다."
   ]
  },
  {
   "cell_type": "code",
   "execution_count": 42,
   "metadata": {
    "id": "Tdd6Qkm1NYLX"
   },
   "outputs": [],
   "source": [
    "def get_gzipped_model_size(file):\n",
    "  # Returns size of gzipped model, in bytes.\n",
    "    _, zipped_file = tempfile.mkstemp('.zip')\n",
    "    with zipfile.ZipFile(zipped_file, 'w', compression=zipfile.ZIP_DEFLATED) as f:\n",
    "        f.write(file)\n",
    "    return os.path.getsize(zipped_file)"
   ]
  },
  {
   "cell_type": "code",
   "execution_count": 43,
   "metadata": {
    "id": "1IbZTCZ6NYLX",
    "outputId": "bea9626c-54ff-4b74-d3ac-7c2fc2eaabb7"
   },
   "outputs": [
    {
     "name": "stdout",
     "output_type": "stream",
     "text": [
      "Size of gzipped baseline Keras model: 78969.00 bytes\n",
      "Size of gzipped pruned Keras model: 26686.00 bytes\n",
      "Size of gzipped pruned TFlite model: 25419.00 bytes\n"
     ]
    }
   ],
   "source": [
    "print(\"Size of gzipped baseline Keras model: %.2f bytes\" % (get_gzipped_model_size(keras_file)))\n",
    "print(\"Size of gzipped pruned Keras model: %.2f bytes\" % (get_gzipped_model_size(pruned_keras_file)))\n",
    "print(\"Size of gzipped pruned TFlite model: %.2f bytes\" % (get_gzipped_model_size(pruned_tflite_file)))"
   ]
  },
  {
   "cell_type": "markdown",
   "metadata": {
    "id": "H_Sk8uNPNYLX"
   },
   "source": [
    "### Combine pruning and quantization\n",
    "pruning을 한 다음에 post-training quantization까지 하면 크기를 더 줄일 수 있다."
   ]
  },
  {
   "cell_type": "code",
   "execution_count": 44,
   "metadata": {
    "id": "MO0PrS93NYLX",
    "outputId": "4de60404-df84-4b4e-a5f5-aa24ac07df44"
   },
   "outputs": [
    {
     "name": "stderr",
     "output_type": "stream",
     "text": [
      "WARNING:absl:Found untraced functions such as _jit_compiled_convolution_op, _jit_compiled_convolution_op while saving (showing 2 of 2). These functions will not be directly callable after loading.\n"
     ]
    },
    {
     "name": "stdout",
     "output_type": "stream",
     "text": [
      "INFO:tensorflow:Assets written to: C:\\Users\\steve\\AppData\\Local\\Temp\\tmph1dadejl\\assets\n"
     ]
    },
    {
     "name": "stderr",
     "output_type": "stream",
     "text": [
      "INFO:tensorflow:Assets written to: C:\\Users\\steve\\AppData\\Local\\Temp\\tmph1dadejl\\assets\n",
      "C:\\Users\\steve\\.conda\\envs\\tf\\lib\\site-packages\\tensorflow\\lite\\python\\convert.py:766: UserWarning: Statistics for quantized inputs were expected, but not specified; continuing anyway.\n",
      "  warnings.warn(\"Statistics for quantized inputs were expected, but not \"\n"
     ]
    },
    {
     "name": "stdout",
     "output_type": "stream",
     "text": [
      "Saved quantized and pruned TFLite model to: C:\\Users\\steve\\AppData\\Local\\Temp\\tmpdwkcziqh.tflite\n",
      "Size of gzipped baseline Keras model: 78969.00 bytes\n",
      "Size of gzipped pruned and quantized TFlite model: 9704.00 bytes\n",
      "Size of optimized model is 0.12 of the baseline model\n"
     ]
    }
   ],
   "source": [
    "def representative_data_gen():\n",
    "    for input_value in tf.data.Dataset.from_tensor_slices(train_images).batch(1).take(100):\n",
    "        yield [input_value]\n",
    "\n",
    "converter = tf.lite.TFLiteConverter.from_keras_model(model_for_export)\n",
    "\n",
    "converter.optimizations = [tf.lite.Optimize.DEFAULT]\n",
    "converter.representative_dataset = representative_data_gen\n",
    "# Ensure that if any ops can't be quantized, the converter throws an error\n",
    "converter.target_spec.supported_ops = [tf.lite.OpsSet.TFLITE_BUILTINS_INT8]\n",
    "# Set the input and output tensors to uint8 (APIs added in r2.3)\n",
    "converter.inference_input_type = tf.uint8\n",
    "converter.inference_output_type = tf.uint8\n",
    "\n",
    "quantized_and_pruned_tflite_model = converter.convert()\n",
    "\n",
    "_, quantized_and_pruned_tflite_file = tempfile.mkstemp('.tflite')\n",
    "\n",
    "with open(quantized_and_pruned_tflite_file, 'wb') as f:\n",
    "    f.write(quantized_and_pruned_tflite_model)\n",
    "\n",
    "print('Saved quantized and pruned TFLite model to:', quantized_and_pruned_tflite_file)\n",
    "\n",
    "print(\"Size of gzipped baseline Keras model: %.2f bytes\" % (get_gzipped_model_size(keras_file)))\n",
    "print(\"Size of gzipped pruned and quantized TFlite model: %.2f bytes\" % (get_gzipped_model_size(quantized_and_pruned_tflite_file)))\n",
    "print(f\"Size of optimized model is {get_gzipped_model_size(quantized_and_pruned_tflite_file)/get_gzipped_model_size(keras_file):.02f} of the baseline model\")"
   ]
  },
  {
   "cell_type": "markdown",
   "metadata": {
    "id": "HmunG-WdNYLX"
   },
   "source": [
    "baseline 과 accuracy를 비교해 보자"
   ]
  },
  {
   "cell_type": "code",
   "execution_count": 45,
   "metadata": {
    "id": "jZXMU5h1NYLX",
    "outputId": "8af5bb7f-d0fa-455f-fe58-598015a48137",
    "scrolled": true
   },
   "outputs": [
    {
     "name": "stderr",
     "output_type": "stream",
     "text": [
      "100%|███████████████████████████████████████████████████████████████████████████| 10000/10000 [01:15<00:00, 132.07it/s]"
     ]
    },
    {
     "name": "stdout",
     "output_type": "stream",
     "text": [
      "\n",
      "Baseline test accuracy: 0.9157000184059143\n",
      "Pruned and quantized TFLite test_accuracy: 0.8917\n"
     ]
    },
    {
     "name": "stderr",
     "output_type": "stream",
     "text": [
      "\n"
     ]
    }
   ],
   "source": [
    "interpreter = tf.lite.Interpreter(model_content=quantized_and_pruned_tflite_model)\n",
    "interpreter.allocate_tensors()\n",
    "\n",
    "test_accuracy, _ = evaluate_model(interpreter)\n",
    "\n",
    "print('Baseline test accuracy:', baseline_model_accuracy)\n",
    "print('Pruned and quantized TFLite test_accuracy:', test_accuracy)"
   ]
  },
  {
   "cell_type": "markdown",
   "metadata": {
    "id": "x_AasKQXNYLX"
   },
   "source": [
    "QAT와 비슷하게, pruning도 layer를 선택적으로 pruning 할 수 있다. 이 부분은 [document](https://www.tensorflow.org/model_optimization/guide/pruning/comprehensive_guide)를 참고"
   ]
  },
  {
   "cell_type": "code",
   "execution_count": null,
   "metadata": {},
   "outputs": [],
   "source": []
  }
 ],
 "metadata": {
  "colab": {
   "name": "Practice_Optimization (4).ipynb",
   "provenance": []
  },
  "kernelspec": {
   "display_name": "Python 3 (ipykernel)",
   "language": "python",
   "name": "python3"
  },
  "language_info": {
   "codemirror_mode": {
    "name": "ipython",
    "version": 3
   },
   "file_extension": ".py",
   "mimetype": "text/x-python",
   "name": "python",
   "nbconvert_exporter": "python",
   "pygments_lexer": "ipython3",
   "version": "3.9.7"
  }
 },
 "nbformat": 4,
 "nbformat_minor": 1
}
