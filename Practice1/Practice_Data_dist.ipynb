{
 "cells": [
  {
   "cell_type": "markdown",
   "metadata": {
    "id": "NQ7PdP3Zhe_S"
   },
   "source": [
    "# Tensorflow Input data handling\n",
    "이름에서부터 알 수 있듯이 Data science에서 Data를 잘 다루는 것은 기본 중의 기본이다. 이는 Tensorflow를 학습할 때에도 마찬가지이다. 좋은 알고리즘 또는 네트워크를 구현할 수 있는 것도 중요하겠지만, 실제 연구 또는 응용을 위해서는 데이터를 잘 가공하고, 효율적으로 데이터를 처리할 수 있는 기법을 잘 알고 있는 것이 중요하다. 이러한 능력을 배양하기 위하여 이번 실습에서는 Tensorflow의 Data 관련한 API들에 관하여 소개할 것이다. 관련 API가 여러 가지가 있지만 실습에서는 아래 API를 다룰 것이다.\n",
    "- Keras data API\n",
    "- Keras preprocess API\n",
    "- Tensorflow data API"
   ]
  },
  {
   "cell_type": "code",
   "execution_count": 1,
   "metadata": {
    "id": "XqeIOAUihe_U"
   },
   "outputs": [
    {
     "name": "stderr",
     "output_type": "stream",
     "text": [
      "2022-08-07 16:47:23.975709: I tensorflow/stream_executor/platform/default/dso_loader.cc:53] Successfully opened dynamic library libcudart.so.11.0\n"
     ]
    }
   ],
   "source": [
    "import tensorflow as tf\n",
    "import numpy as np\n",
    "import matplotlib.pyplot as plt\n",
    "\n",
    "\n",
    "import requests\n",
    "requests.packages.urllib3.disable_warnings()\n",
    "import ssl\n",
    "\n",
    "try:\n",
    "    _create_unverified_https_context = ssl._create_unverified_context\n",
    "except AttributeError:\n",
    "    # Legacy Python that doesn't verify HTTPS certificates by default\n",
    "    pass\n",
    "else:\n",
    "    # Handle target environment that doesn't support HTTPS verification\n",
    "    ssl._create_default_https_context = _create_unverified_https_context"
   ]
  },
  {
   "cell_type": "markdown",
   "metadata": {
    "id": "q1icdUXghe_W"
   },
   "source": [
    "## Keras data API\n",
    "먼저 Keras에서 제공하는 간단한 data API들을 소개한다.\n",
    "\n",
    "### Keras datasets\n",
    "많이 사용되는 작은 데이터셋들을 사용하기 편하게 아래와 같은 모듈 형태로 제공하고, load_data()를 통해 numpy array로 받아올 수 있다. 아래의 데이터셋들을 사용할 수 있다.\n",
    "\n",
    "* boston_housing module: Boston housing price regression dataset.\n",
    "* cifar10 module: CIFAR10 small images classification dataset.\n",
    "* cifar100 module: CIFAR100 small images classification dataset.\n",
    "* fashion_mnist module: Fashion-MNIST dataset.\n",
    "* imdb module: IMDB sentiment classification dataset.\n",
    "* mnist module: MNIST handwritten digits dataset.\n",
    "* reuters module: Reuters topic classification dataset."
   ]
  },
  {
   "cell_type": "code",
   "execution_count": 9,
   "metadata": {
    "id": "qlgLGkrIhe_W",
    "outputId": "3a1f9bf9-c546-49ca-829c-cc5a57bb9147",
    "scrolled": false
   },
   "outputs": [],
   "source": [
    "cifar10 = tf.keras.datasets.cifar10\n",
    "\n",
    "#Load data\n",
    "(x_train, y_train), (x_test, y_test) = cifar10.load_data()\n",
    "\n",
    "#Split train| set into train/valid set\n",
    "from sklearn import model_selection\n",
    "x_train, x_valid, y_train, y_valid = model_selection.train_test_split(x_train, y_train,test_size=0.2)"
   ]
  },
  {
   "cell_type": "markdown",
   "metadata": {
    "id": "JCF-n8sShe_X"
   },
   "source": [
    "### Data preprocessing/augmentation using Keras layers\n",
    "**Old Tensorflow에서는 사용이 불가할 수 있음**<br><br>\n",
    "최신 버전의 keras에서는 간단한 data preprocessing/augmentation을 할 수 있도록 layer를 생성하는 기능이 추가되었다. \n",
    "\n",
    "- `tf.keras.layers.experimental.preprocessing`: Rescaling(변수 스케일링), RandomFlip(상하/좌우 반전), RandomRotation(회전) 등의 data augmentation을 적용 가능하다. 더욱 자세한 내용은 아래 링크를 참조하자.<br> https://keras.io/guides/preprocessing_layers/#:~:text=Keras%20preprocessing%20layers%20The%20Keras%20preprocessing%20layers%20API,and%20exported%20as%20part%20of%20a%20Keras%20SavedModel.\n",
    "\n",
    "실습을 통해 활용해 보도록 하자. 아래 작업을 해볼 것이다.<br>\n",
    "- 0 ~ 255사이의 정수로 들어온 데이터를 0~1사이의 실수 값으로 변환 (Rescaling)\n",
    "- 상하/좌우 랜덤 반전 (RandomFlip)\n",
    "- 회전(2pi * 20%) (RandomRotation)"
   ]
  },
  {
   "cell_type": "code",
   "execution_count": 10,
   "metadata": {
    "id": "ivO1cP0ghe_Y",
    "scrolled": true
   },
   "outputs": [],
   "source": [
    "data_augmentation = tf.keras.Sequential([\n",
    "    ###### 아래 빈칸. 실습하면서 완성 #####\n",
    "\n",
    "    ###### 빈칸 끝 #####\n",
    "])"
   ]
  },
  {
   "cell_type": "markdown",
   "metadata": {
    "id": "s8khVRxWhe_Z"
   },
   "source": [
    "다른 Layer들과 마찬가지로 Model에 layer를 추가해주면 네트워크가 시작하기 전에 전처리 등을 수행하게 된다."
   ]
  },
  {
   "cell_type": "code",
   "execution_count": 11,
   "metadata": {
    "id": "jZlY4K44he_Z",
    "outputId": "0d80c507-2593-4dcc-ae58-c986a0af66c9"
   },
   "outputs": [],
   "source": [
    "model = tf.keras.models.Sequential([  \n",
    "  data_augmentation,    \n",
    "  tf.keras.layers.Conv2D(filters=64, kernel_size=(3,3), padding=\"same\", activation=\"relu\", input_shape=(28,28,1)),\n",
    "  tf.keras.layers.MaxPool2D((2,2)),\n",
    "  tf.keras.layers.Conv2D(filters=128, kernel_size=(3,3), padding=\"same\", activation=\"relu\"),\n",
    "  tf.keras.layers.MaxPool2D((2,2)),\n",
    "  tf.keras.layers.Flatten(),\n",
    "  tf.keras.layers.Dense(10, activation='softmax') \n",
    "])"
   ]
  },
  {
   "cell_type": "markdown",
   "metadata": {
    "id": "2LM3IQcwhe_a"
   },
   "source": [
    "또는 모델에는 포함시키지 않고 아래와 같은 방식으로 Data가 가공되도록 구성할 수도 있다."
   ]
  },
  {
   "cell_type": "code",
   "execution_count": 12,
   "metadata": {
    "id": "f0fEGlUJhe_a"
   },
   "outputs": [],
   "source": [
    "#Data preprocessing/augmentation for training images\n",
    "x_train = tf.keras.layers.experimental.preprocessing.Rescaling(1./255)(x_train)\n",
    "x_train = tf.keras.layers.experimental.preprocessing.RandomFlip(\"horizontal_and_vertical\")(x_train)\n",
    "x_train = tf.keras.layers.experimental.preprocessing.RandomRotation(0.2)(x_train)\n",
    "\n",
    "#Data preprocessing/augmentation for validation/test images\n",
    "x_valid = tf.keras.layers.experimental.preprocessing.Rescaling(1./255)(x_valid)\n",
    "x_test = tf.keras.layers.experimental.preprocessing.Rescaling(1./255)(x_valid)"
   ]
  },
  {
   "cell_type": "markdown",
   "metadata": {
    "id": "4YsSA5wZhe_a"
   },
   "source": [
    "## Keras preprocess API: ImageDataGenerator\n",
    "keras.preprocess의 여러 method들을 이용하여 Data preprocessing/augmentation을 하는 것도 가능하다. 이번 실습에서는 ImageDataGenerator와 관련된 method들을 소개한다.<br>\n",
    "ImageDataGenerator class를 이용하면 여러가지 augementation들을 설정할 수 있다. \n",
    "\n",
    "- `tf.keras.preprocessing.image.ImageDataGenerator`: rescale, horizontal_flip, vertical_flip, rotation_range 등의 Argument를 입력하여 자주 사용되는 Data augmentation들을 손쉽게 추가할 수 있다. 상세한 내용은 다음 링크를 참조하자:\n",
    "https://keras.io/api/preprocessing/image/#imagedatagenerator-class\n",
    "- 위와 동일하게 rescale, horizontal/vertical flip, rotation 등을 설정해보자."
   ]
  },
  {
   "cell_type": "code",
   "execution_count": 13,
   "metadata": {
    "id": "aC69-Tcjhe_b"
   },
   "outputs": [],
   "source": [
    "(x_train, y_train), (x_test, y_test) = cifar10.load_data()"
   ]
  },
  {
   "cell_type": "code",
   "execution_count": 14,
   "metadata": {
    "id": "Ep30vg7ihe_b"
   },
   "outputs": [],
   "source": [
    "datagen = tf.keras.preprocessing.image.ImageDataGenerator(\n",
    "  ###### 아래 빈칸. 실습하면서 완성 #####\n",
    "\n",
    "    ###### 빈칸 끝 #####\n",
    ")\n"
   ]
  },
  {
   "cell_type": "markdown",
   "metadata": {
    "id": "8DBVs3eLhe_c"
   },
   "source": [
    "`ImageDataGenerator.flow()` method를 활용하면 batch 단위로 image와 label을 numpy array 형태로 generate해 준다. Default batch size는 32이며, ImageDataGenerator 생성시에 batch_size를 입력해 줄 수 있다."
   ]
  },
  {
   "cell_type": "code",
   "execution_count": 15,
   "metadata": {
    "id": "IQ6cGy_che_c",
    "outputId": "ec11c2ab-2237-4cac-a7d8-67664f53a92d"
   },
   "outputs": [
    {
     "name": "stdout",
     "output_type": "stream",
     "text": [
      "(32, 32, 32, 3)\n",
      "(32, 1)\n"
     ]
    }
   ],
   "source": [
    "batch_x, batch_y = next(datagen.flow(x_train, y_train, batch_size=32, shuffle=True))\n",
    "print(batch_x.shape)\n",
    "print(batch_y.shape)"
   ]
  },
  {
   "cell_type": "code",
   "execution_count": 16,
   "metadata": {
    "id": "VlGeYwthhe_d",
    "outputId": "4e2df3e7-08c2-4283-b759-5150a33b2e45"
   },
   "outputs": [
    {
     "data": {
      "image/png": "[encoded data removed]",
      "text/plain": [
       "<Figure size 432x288 with 1 Axes>"
      ]
     },
     "metadata": {
      "needs_background": "light"
     },
     "output_type": "display_data"
    }
   ],
   "source": [
    "# Visualize single data\n",
    "def show(image, label):\n",
    "    plt.figure()\n",
    "    plt.imshow(image)\n",
    "    plt.title(label[0])\n",
    "    plt.axis('off')\n",
    "    \n",
    "show(batch_x[0], batch_y[0])"
   ]
  },
  {
   "cell_type": "code",
   "execution_count": 17,
   "metadata": {
    "id": "tI3uVE2mhe_d"
   },
   "outputs": [],
   "source": [
    "model = tf.keras.models.Sequential([   \n",
    "  tf.keras.layers.Conv2D(filters=64, kernel_size=(3,3), padding=\"same\", activation=\"relu\", input_shape=(32,32,3)),\n",
    "  tf.keras.layers.MaxPool2D((2,2)),\n",
    "  tf.keras.layers.Conv2D(filters=128, kernel_size=(3,3), padding=\"same\", activation=\"relu\"),\n",
    "  tf.keras.layers.MaxPool2D((2,2)),\n",
    "  tf.keras.layers.Flatten(),\n",
    "  tf.keras.layers.Dense(10, activation='softmax') \n",
    "])"
   ]
  },
  {
   "cell_type": "code",
   "execution_count": 18,
   "metadata": {
    "id": "BL4Rvxcbhe_d"
   },
   "outputs": [],
   "source": [
    "loss_fn = tf.keras.losses.SparseCategoricalCrossentropy(from_logits=False)\n",
    "model.compile(loss=loss_fn, optimizer='adam', metrics=['accuracy'])"
   ]
  },
  {
   "cell_type": "markdown",
   "metadata": {
    "id": "YoNlxycJhe_d"
   },
   "source": [
    "트레이닝을 위해서는 아래와 같이 `model.fit`의 인자로 `ImageDataGenerator.flow()`를 넣어주면 된다."
   ]
  },
  {
   "cell_type": "code",
   "execution_count": 19,
   "metadata": {
    "id": "Xh_8yFdphe_e",
    "outputId": "55e471e8-3c6d-470d-966a-c248f4f52a41",
    "scrolled": true
   },
   "outputs": [
    {
     "name": "stderr",
     "output_type": "stream",
     "text": [
      "2022-08-07 16:49:06.094886: I tensorflow/compiler/mlir/mlir_graph_optimization_pass.cc:176] None of the MLIR Optimization Passes are enabled (registered 2)\n",
      "2022-08-07 16:49:06.116261: I tensorflow/core/platform/profile_utils/cpu_utils.cc:114] CPU Frequency: 2400000000 Hz\n"
     ]
    },
    {
     "name": "stdout",
     "output_type": "stream",
     "text": [
      "Epoch 1/10\n"
     ]
    },
    {
     "name": "stderr",
     "output_type": "stream",
     "text": [
      "2022-08-07 16:49:06.533224: I tensorflow/stream_executor/platform/default/dso_loader.cc:53] Successfully opened dynamic library libcudnn.so.8\n",
      "2022-08-07 16:49:07.381055: I tensorflow/stream_executor/cuda/cuda_dnn.cc:359] Loaded cuDNN version 8201\n",
      "2022-08-07 16:49:09.207710: I tensorflow/stream_executor/platform/default/dso_loader.cc:53] Successfully opened dynamic library libcublas.so.11\n",
      "2022-08-07 16:49:10.552361: I tensorflow/stream_executor/platform/default/dso_loader.cc:53] Successfully opened dynamic library libcublasLt.so.11\n",
      "2022-08-07 16:49:10.569297: I tensorflow/stream_executor/cuda/cuda_blas.cc:1838] TensorFloat-32 will be used for the matrix multiplication. This will only be logged once.\n"
     ]
    },
    {
     "name": "stdout",
     "output_type": "stream",
     "text": [
      " 106/1562 [=>............................] - ETA: 30s - loss: 2.1367 - accuracy: 0.1848"
     ]
    },
    {
     "ename": "KeyboardInterrupt",
     "evalue": "",
     "output_type": "error",
     "traceback": [
      "\u001b[0;31m---------------------------------------------------------------------------\u001b[0m",
      "\u001b[0;31mKeyboardInterrupt\u001b[0m                         Traceback (most recent call last)",
      "\u001b[0;32m/tmp/ipykernel_3127/138519777.py\u001b[0m in \u001b[0;36m<module>\u001b[0;34m\u001b[0m\n\u001b[0;32m----> 1\u001b[0;31m model.fit(datagen.flow(x_train, y_train, batch_size=32, shuffle=True),\n\u001b[0m\u001b[1;32m      2\u001b[0m           \u001b[0msteps_per_epoch\u001b[0m\u001b[0;34m=\u001b[0m\u001b[0mlen\u001b[0m\u001b[0;34m(\u001b[0m\u001b[0mx_train\u001b[0m\u001b[0;34m)\u001b[0m\u001b[0;34m/\u001b[0m\u001b[0;36m32\u001b[0m\u001b[0;34m,\u001b[0m\u001b[0;34m\u001b[0m\u001b[0;34m\u001b[0m\u001b[0m\n\u001b[1;32m      3\u001b[0m           epochs=10)\n",
      "\u001b[0;32m~/anaconda3/envs/tf_3090/lib/python3.8/site-packages/tensorflow/python/keras/engine/training.py\u001b[0m in \u001b[0;36mfit\u001b[0;34m(self, x, y, batch_size, epochs, verbose, callbacks, validation_split, validation_data, shuffle, class_weight, sample_weight, initial_epoch, steps_per_epoch, validation_steps, validation_batch_size, validation_freq, max_queue_size, workers, use_multiprocessing)\u001b[0m\n\u001b[1;32m   1181\u001b[0m                 _r=1):\n\u001b[1;32m   1182\u001b[0m               \u001b[0mcallbacks\u001b[0m\u001b[0;34m.\u001b[0m\u001b[0mon_train_batch_begin\u001b[0m\u001b[0;34m(\u001b[0m\u001b[0mstep\u001b[0m\u001b[0;34m)\u001b[0m\u001b[0;34m\u001b[0m\u001b[0;34m\u001b[0m\u001b[0m\n\u001b[0;32m-> 1183\u001b[0;31m               \u001b[0mtmp_logs\u001b[0m \u001b[0;34m=\u001b[0m \u001b[0mself\u001b[0m\u001b[0;34m.\u001b[0m\u001b[0mtrain_function\u001b[0m\u001b[0;34m(\u001b[0m\u001b[0miterator\u001b[0m\u001b[0;34m)\u001b[0m\u001b[0;34m\u001b[0m\u001b[0;34m\u001b[0m\u001b[0m\n\u001b[0m\u001b[1;32m   1184\u001b[0m               \u001b[0;32mif\u001b[0m \u001b[0mdata_handler\u001b[0m\u001b[0;34m.\u001b[0m\u001b[0mshould_sync\u001b[0m\u001b[0;34m:\u001b[0m\u001b[0;34m\u001b[0m\u001b[0;34m\u001b[0m\u001b[0m\n\u001b[1;32m   1185\u001b[0m                 \u001b[0mcontext\u001b[0m\u001b[0;34m.\u001b[0m\u001b[0masync_wait\u001b[0m\u001b[0;34m(\u001b[0m\u001b[0;34m)\u001b[0m\u001b[0;34m\u001b[0m\u001b[0;34m\u001b[0m\u001b[0m\n",
      "\u001b[0;32m~/anaconda3/envs/tf_3090/lib/python3.8/site-packages/tensorflow/python/eager/def_function.py\u001b[0m in \u001b[0;36m__call__\u001b[0;34m(self, *args, **kwds)\u001b[0m\n\u001b[1;32m    887\u001b[0m \u001b[0;34m\u001b[0m\u001b[0m\n\u001b[1;32m    888\u001b[0m       \u001b[0;32mwith\u001b[0m \u001b[0mOptionalXlaContext\u001b[0m\u001b[0;34m(\u001b[0m\u001b[0mself\u001b[0m\u001b[0;34m.\u001b[0m\u001b[0m_jit_compile\u001b[0m\u001b[0;34m)\u001b[0m\u001b[0;34m:\u001b[0m\u001b[0;34m\u001b[0m\u001b[0;34m\u001b[0m\u001b[0m\n\u001b[0;32m--> 889\u001b[0;31m         \u001b[0mresult\u001b[0m \u001b[0;34m=\u001b[0m \u001b[0mself\u001b[0m\u001b[0;34m.\u001b[0m\u001b[0m_call\u001b[0m\u001b[0;34m(\u001b[0m\u001b[0;34m*\u001b[0m\u001b[0margs\u001b[0m\u001b[0;34m,\u001b[0m \u001b[0;34m**\u001b[0m\u001b[0mkwds\u001b[0m\u001b[0;34m)\u001b[0m\u001b[0;34m\u001b[0m\u001b[0;34m\u001b[0m\u001b[0m\n\u001b[0m\u001b[1;32m    890\u001b[0m \u001b[0;34m\u001b[0m\u001b[0m\n\u001b[1;32m    891\u001b[0m       \u001b[0mnew_tracing_count\u001b[0m \u001b[0;34m=\u001b[0m \u001b[0mself\u001b[0m\u001b[0;34m.\u001b[0m\u001b[0mexperimental_get_tracing_count\u001b[0m\u001b[0;34m(\u001b[0m\u001b[0;34m)\u001b[0m\u001b[0;34m\u001b[0m\u001b[0;34m\u001b[0m\u001b[0m\n",
      "\u001b[0;32m~/anaconda3/envs/tf_3090/lib/python3.8/site-packages/tensorflow/python/eager/def_function.py\u001b[0m in \u001b[0;36m_call\u001b[0;34m(self, *args, **kwds)\u001b[0m\n\u001b[1;32m    915\u001b[0m       \u001b[0;31m# In this case we have created variables on the first call, so we run the\u001b[0m\u001b[0;34m\u001b[0m\u001b[0;34m\u001b[0m\u001b[0;34m\u001b[0m\u001b[0m\n\u001b[1;32m    916\u001b[0m       \u001b[0;31m# defunned version which is guaranteed to never create variables.\u001b[0m\u001b[0;34m\u001b[0m\u001b[0;34m\u001b[0m\u001b[0;34m\u001b[0m\u001b[0m\n\u001b[0;32m--> 917\u001b[0;31m       \u001b[0;32mreturn\u001b[0m \u001b[0mself\u001b[0m\u001b[0;34m.\u001b[0m\u001b[0m_stateless_fn\u001b[0m\u001b[0;34m(\u001b[0m\u001b[0;34m*\u001b[0m\u001b[0margs\u001b[0m\u001b[0;34m,\u001b[0m \u001b[0;34m**\u001b[0m\u001b[0mkwds\u001b[0m\u001b[0;34m)\u001b[0m  \u001b[0;31m# pylint: disable=not-callable\u001b[0m\u001b[0;34m\u001b[0m\u001b[0;34m\u001b[0m\u001b[0m\n\u001b[0m\u001b[1;32m    918\u001b[0m     \u001b[0;32melif\u001b[0m \u001b[0mself\u001b[0m\u001b[0;34m.\u001b[0m\u001b[0m_stateful_fn\u001b[0m \u001b[0;32mis\u001b[0m \u001b[0;32mnot\u001b[0m \u001b[0;32mNone\u001b[0m\u001b[0;34m:\u001b[0m\u001b[0;34m\u001b[0m\u001b[0;34m\u001b[0m\u001b[0m\n\u001b[1;32m    919\u001b[0m       \u001b[0;31m# Release the lock early so that multiple threads can perform the call\u001b[0m\u001b[0;34m\u001b[0m\u001b[0;34m\u001b[0m\u001b[0;34m\u001b[0m\u001b[0m\n",
      "\u001b[0;32m~/anaconda3/envs/tf_3090/lib/python3.8/site-packages/tensorflow/python/eager/function.py\u001b[0m in \u001b[0;36m__call__\u001b[0;34m(self, *args, **kwargs)\u001b[0m\n\u001b[1;32m   3021\u001b[0m       (graph_function,\n\u001b[1;32m   3022\u001b[0m        filtered_flat_args) = self._maybe_define_function(args, kwargs)\n\u001b[0;32m-> 3023\u001b[0;31m     return graph_function._call_flat(\n\u001b[0m\u001b[1;32m   3024\u001b[0m         filtered_flat_args, captured_inputs=graph_function.captured_inputs)  # pylint: disable=protected-access\n\u001b[1;32m   3025\u001b[0m \u001b[0;34m\u001b[0m\u001b[0m\n",
      "\u001b[0;32m~/anaconda3/envs/tf_3090/lib/python3.8/site-packages/tensorflow/python/eager/function.py\u001b[0m in \u001b[0;36m_call_flat\u001b[0;34m(self, args, captured_inputs, cancellation_manager)\u001b[0m\n\u001b[1;32m   1958\u001b[0m         and executing_eagerly):\n\u001b[1;32m   1959\u001b[0m       \u001b[0;31m# No tape is watching; skip to running the function.\u001b[0m\u001b[0;34m\u001b[0m\u001b[0;34m\u001b[0m\u001b[0;34m\u001b[0m\u001b[0m\n\u001b[0;32m-> 1960\u001b[0;31m       return self._build_call_outputs(self._inference_function.call(\n\u001b[0m\u001b[1;32m   1961\u001b[0m           ctx, args, cancellation_manager=cancellation_manager))\n\u001b[1;32m   1962\u001b[0m     forward_backward = self._select_forward_and_backward_functions(\n",
      "\u001b[0;32m~/anaconda3/envs/tf_3090/lib/python3.8/site-packages/tensorflow/python/eager/function.py\u001b[0m in \u001b[0;36mcall\u001b[0;34m(self, ctx, args, cancellation_manager)\u001b[0m\n\u001b[1;32m    589\u001b[0m       \u001b[0;32mwith\u001b[0m \u001b[0m_InterpolateFunctionError\u001b[0m\u001b[0;34m(\u001b[0m\u001b[0mself\u001b[0m\u001b[0;34m)\u001b[0m\u001b[0;34m:\u001b[0m\u001b[0;34m\u001b[0m\u001b[0;34m\u001b[0m\u001b[0m\n\u001b[1;32m    590\u001b[0m         \u001b[0;32mif\u001b[0m \u001b[0mcancellation_manager\u001b[0m \u001b[0;32mis\u001b[0m \u001b[0;32mNone\u001b[0m\u001b[0;34m:\u001b[0m\u001b[0;34m\u001b[0m\u001b[0;34m\u001b[0m\u001b[0m\n\u001b[0;32m--> 591\u001b[0;31m           outputs = execute.execute(\n\u001b[0m\u001b[1;32m    592\u001b[0m               \u001b[0mstr\u001b[0m\u001b[0;34m(\u001b[0m\u001b[0mself\u001b[0m\u001b[0;34m.\u001b[0m\u001b[0msignature\u001b[0m\u001b[0;34m.\u001b[0m\u001b[0mname\u001b[0m\u001b[0;34m)\u001b[0m\u001b[0;34m,\u001b[0m\u001b[0;34m\u001b[0m\u001b[0;34m\u001b[0m\u001b[0m\n\u001b[1;32m    593\u001b[0m               \u001b[0mnum_outputs\u001b[0m\u001b[0;34m=\u001b[0m\u001b[0mself\u001b[0m\u001b[0;34m.\u001b[0m\u001b[0m_num_outputs\u001b[0m\u001b[0;34m,\u001b[0m\u001b[0;34m\u001b[0m\u001b[0;34m\u001b[0m\u001b[0m\n",
      "\u001b[0;32m~/anaconda3/envs/tf_3090/lib/python3.8/site-packages/tensorflow/python/eager/execute.py\u001b[0m in \u001b[0;36mquick_execute\u001b[0;34m(op_name, num_outputs, inputs, attrs, ctx, name)\u001b[0m\n\u001b[1;32m     57\u001b[0m   \u001b[0;32mtry\u001b[0m\u001b[0;34m:\u001b[0m\u001b[0;34m\u001b[0m\u001b[0;34m\u001b[0m\u001b[0m\n\u001b[1;32m     58\u001b[0m     \u001b[0mctx\u001b[0m\u001b[0;34m.\u001b[0m\u001b[0mensure_initialized\u001b[0m\u001b[0;34m(\u001b[0m\u001b[0;34m)\u001b[0m\u001b[0;34m\u001b[0m\u001b[0;34m\u001b[0m\u001b[0m\n\u001b[0;32m---> 59\u001b[0;31m     tensors = pywrap_tfe.TFE_Py_Execute(ctx._handle, device_name, op_name,\n\u001b[0m\u001b[1;32m     60\u001b[0m                                         inputs, attrs, num_outputs)\n\u001b[1;32m     61\u001b[0m   \u001b[0;32mexcept\u001b[0m \u001b[0mcore\u001b[0m\u001b[0;34m.\u001b[0m\u001b[0m_NotOkStatusException\u001b[0m \u001b[0;32mas\u001b[0m \u001b[0me\u001b[0m\u001b[0;34m:\u001b[0m\u001b[0;34m\u001b[0m\u001b[0;34m\u001b[0m\u001b[0m\n",
      "\u001b[0;31mKeyboardInterrupt\u001b[0m: "
     ]
    }
   ],
   "source": [
    "model.fit(datagen.flow(x_train, y_train, batch_size=32, shuffle=True),\n",
    "          steps_per_epoch=len(x_train)/32, \n",
    "          epochs=10)"
   ]
  },
  {
   "cell_type": "markdown",
   "metadata": {
    "id": "cZPOuNtWhe_e"
   },
   "source": [
    "# Tensorflow data API\n",
    "위에서 소개한 Keras의 data API가 사용하기 간편하기는 하지만, 세부적인 조정을 하기에는 부족함이 있다. Tensorflow data API를 사용하면 조금 더 세부적인 데이터 가공이 가능할 뿐만 아니라, data pipeline을 구성에 있어서도 효율적이다. 이는 대용량 데이터를 이용한 트레이닝시에 많은 차이를 가져올 수 있다.<br>\n",
    "<br>\n",
    "이번 실습에서는 `tf.data.Datasets` class를 활용하여 데이터를 다루는 방법을 소개할 것이다.<br> \n",
    "먼저, data API에서 기본적으로 제공하는 Dataset들을 활용하기 위하여 아래 `tensorflow_datasets` 모듈을 import하자. `keras.datasets`보다 다양한 Dataset을 사용할 수 있다.<br>\n",
    "<br>\n",
    "*`tensorflow_datasets`은 `tf.data.Datasets` 클래스와는 구분하도록 하자. `tensorflow_datasets` 모듈을 통해 로드하는 것이 `tf.data.Datasets` 오브젝트들이다.*"
   ]
  },
  {
   "cell_type": "code",
   "execution_count": 20,
   "metadata": {
    "id": "WwFr0GhFhe_e",
    "outputId": "afa63434-3408-4d18-97c4-783f3f740b87",
    "scrolled": true
   },
   "outputs": [
    {
     "name": "stdout",
     "output_type": "stream",
     "text": [
      "Requirement already satisfied: tensorflow_datasets in /home/keondopark/anaconda3/envs/tf_3090/lib/python3.8/site-packages (4.5.2)\n",
      "Requirement already satisfied: numpy in /home/keondopark/anaconda3/envs/tf_3090/lib/python3.8/site-packages (from tensorflow_datasets) (1.19.5)\n",
      "Requirement already satisfied: tqdm in /home/keondopark/anaconda3/envs/tf_3090/lib/python3.8/site-packages (from tensorflow_datasets) (4.62.3)\n",
      "Requirement already satisfied: absl-py in /home/keondopark/anaconda3/envs/tf_3090/lib/python3.8/site-packages (from tensorflow_datasets) (0.15.0)\n",
      "Requirement already satisfied: promise in /home/keondopark/anaconda3/envs/tf_3090/lib/python3.8/site-packages (from tensorflow_datasets) (2.3)\n",
      "Requirement already satisfied: tensorflow-metadata in /home/keondopark/anaconda3/envs/tf_3090/lib/python3.8/site-packages (from tensorflow_datasets) (1.8.0)\n",
      "Requirement already satisfied: dill in /home/keondopark/anaconda3/envs/tf_3090/lib/python3.8/site-packages (from tensorflow_datasets) (0.3.4)\n",
      "Requirement already satisfied: requests>=2.19.0 in /home/keondopark/anaconda3/envs/tf_3090/lib/python3.8/site-packages (from tensorflow_datasets) (2.26.0)\n",
      "Requirement already satisfied: importlib-resources in /home/keondopark/anaconda3/envs/tf_3090/lib/python3.8/site-packages (from tensorflow_datasets) (5.7.1)\n",
      "Requirement already satisfied: six in /home/keondopark/anaconda3/envs/tf_3090/lib/python3.8/site-packages (from tensorflow_datasets) (1.15.0)\n",
      "Requirement already satisfied: termcolor in /home/keondopark/anaconda3/envs/tf_3090/lib/python3.8/site-packages (from tensorflow_datasets) (1.1.0)\n",
      "Requirement already satisfied: protobuf>=3.12.2 in /home/keondopark/anaconda3/envs/tf_3090/lib/python3.8/site-packages (from tensorflow_datasets) (3.19.1)\n",
      "Requirement already satisfied: charset-normalizer~=2.0.0 in /home/keondopark/anaconda3/envs/tf_3090/lib/python3.8/site-packages (from requests>=2.19.0->tensorflow_datasets) (2.0.9)\n",
      "Requirement already satisfied: idna<4,>=2.5 in /home/keondopark/anaconda3/envs/tf_3090/lib/python3.8/site-packages (from requests>=2.19.0->tensorflow_datasets) (3.3)\n",
      "Requirement already satisfied: certifi>=2017.4.17 in /home/keondopark/anaconda3/envs/tf_3090/lib/python3.8/site-packages (from requests>=2.19.0->tensorflow_datasets) (2021.10.8)\n",
      "Requirement already satisfied: urllib3<1.27,>=1.21.1 in /home/keondopark/anaconda3/envs/tf_3090/lib/python3.8/site-packages (from requests>=2.19.0->tensorflow_datasets) (1.26.7)\n",
      "Requirement already satisfied: zipp>=3.1.0 in /home/keondopark/anaconda3/envs/tf_3090/lib/python3.8/site-packages (from importlib-resources->tensorflow_datasets) (3.6.0)\n",
      "Requirement already satisfied: googleapis-common-protos<2,>=1.52.0 in /home/keondopark/anaconda3/envs/tf_3090/lib/python3.8/site-packages (from tensorflow-metadata->tensorflow_datasets) (1.56.1)\n",
      "Note: you may need to restart the kernel to use updated packages.\n"
     ]
    }
   ],
   "source": [
    "pip install tensorflow_datasets"
   ]
  },
  {
   "cell_type": "code",
   "execution_count": 21,
   "metadata": {
    "id": "AwFxYw6Yhe_e"
   },
   "outputs": [],
   "source": [
    "import tensorflow_datasets as tfds"
   ]
  },
  {
   "cell_type": "markdown",
   "metadata": {
    "id": "V13WBEmHhe_e"
   },
   "source": [
    "위 모듈로부터 cifar10 데이터셋을 로드하자."
   ]
  },
  {
   "cell_type": "code",
   "execution_count": 22,
   "metadata": {
    "id": "dLUTbZjkhe_f"
   },
   "outputs": [
    {
     "name": "stderr",
     "output_type": "stream",
     "text": [
      "2022-08-07 16:49:23.270872: W tensorflow/core/platform/cloud/google_auth_provider.cc:184] All attempts to get a Google authentication bearer token failed, returning an empty token. Retrieving token from files failed with \"Not found: Could not locate the credentials file.\". Retrieving token from GCE failed with \"Failed precondition: Error executing an HTTP request: libcurl code 6 meaning 'Couldn't resolve host name', error details: Could not resolve host: metadata\".\n"
     ]
    },
    {
     "name": "stdout",
     "output_type": "stream",
     "text": [
      "\u001b[1mDownloading and preparing dataset 162.17 MiB (download: 162.17 MiB, generated: 132.40 MiB, total: 294.58 MiB) to /home/keondopark/tensorflow_datasets/cifar10/3.0.2...\u001b[0m\n"
     ]
    },
    {
     "data": {
      "application/vnd.jupyter.widget-view+json": {
       "model_id": "f6cbc45b2b6f4d129ae72b47aae6284d",
       "version_major": 2,
       "version_minor": 0
      },
      "text/plain": [
       "Dl Completed...: 0 url [00:00, ? url/s]"
      ]
     },
     "metadata": {},
     "output_type": "display_data"
    },
    {
     "data": {
      "application/vnd.jupyter.widget-view+json": {
       "model_id": "42d0aed3b72849df9faf98fbe7a5a04b",
       "version_major": 2,
       "version_minor": 0
      },
      "text/plain": [
       "Dl Size...: 0 MiB [00:00, ? MiB/s]"
      ]
     },
     "metadata": {},
     "output_type": "display_data"
    },
    {
     "data": {
      "application/vnd.jupyter.widget-view+json": {
       "model_id": "8ec020c4911e4c06a6a2da3ded328abc",
       "version_major": 2,
       "version_minor": 0
      },
      "text/plain": [
       "Extraction completed...: 0 file [00:00, ? file/s]"
      ]
     },
     "metadata": {},
     "output_type": "display_data"
    },
    {
     "data": {
      "application/vnd.jupyter.widget-view+json": {
       "model_id": "",
       "version_major": 2,
       "version_minor": 0
      },
      "text/plain": [
       "Generating splits...:   0%|          | 0/2 [00:00<?, ? splits/s]"
      ]
     },
     "metadata": {},
     "output_type": "display_data"
    },
    {
     "data": {
      "application/vnd.jupyter.widget-view+json": {
       "model_id": "",
       "version_major": 2,
       "version_minor": 0
      },
      "text/plain": [
       "Generating train examples...:   0%|          | 0/50000 [00:00<?, ? examples/s]"
      ]
     },
     "metadata": {},
     "output_type": "display_data"
    },
    {
     "data": {
      "application/vnd.jupyter.widget-view+json": {
       "model_id": "",
       "version_major": 2,
       "version_minor": 0
      },
      "text/plain": [
       "Shuffling /home/keondopark/tensorflow_datasets/cifar10/3.0.2.incompleteZ29U44/cifar10-train.tfrecord*...:   0%…"
      ]
     },
     "metadata": {},
     "output_type": "display_data"
    },
    {
     "data": {
      "application/vnd.jupyter.widget-view+json": {
       "model_id": "",
       "version_major": 2,
       "version_minor": 0
      },
      "text/plain": [
       "Generating test examples...:   0%|          | 0/10000 [00:00<?, ? examples/s]"
      ]
     },
     "metadata": {},
     "output_type": "display_data"
    },
    {
     "data": {
      "application/vnd.jupyter.widget-view+json": {
       "model_id": "",
       "version_major": 2,
       "version_minor": 0
      },
      "text/plain": [
       "Shuffling /home/keondopark/tensorflow_datasets/cifar10/3.0.2.incompleteZ29U44/cifar10-test.tfrecord*...:   0%|…"
      ]
     },
     "metadata": {},
     "output_type": "display_data"
    },
    {
     "name": "stdout",
     "output_type": "stream",
     "text": [
      "\u001b[1mDataset cifar10 downloaded and prepared to /home/keondopark/tensorflow_datasets/cifar10/3.0.2. Subsequent calls will reuse this data.\u001b[0m\n"
     ]
    }
   ],
   "source": [
    "# Load  cifar10 dataset\n",
    "(dataset_train, dataset_test), ds_info = tfds.load(\n",
    "    'cifar10',\n",
    "    split=['train', 'test'],\n",
    "    shuffle_files=True,\n",
    "    as_supervised=True,\n",
    "    with_info=True,\n",
    ")\n",
    "\n",
    "# The dataset is split int train/test dataset\n",
    "# Let's split the trainset into train/validation dataset\n",
    "# Set train/validation split as 0.8:0.2\n",
    "train_size = int(ds_info.splits['train'].num_examples * 0.8)\n",
    "val_size = ds_info.splits['train'].num_examples - train_size\n",
    "\n",
    "# Use take method to retrieve (train_size) data as New training data\n",
    "ds_train = dataset_train.take(train_size)\n",
    "\n",
    "# Use skip method to retrieve remaining data as validation data\n",
    "ds_val = dataset_train.skip(train_size)"
   ]
  },
  {
   "cell_type": "markdown",
   "metadata": {
    "id": "Nef7daIGhe_f"
   },
   "source": [
    "tf.data.Dataset을 이용할 때에는 Dataset.map()을 활용하여 데이터 가공을 수행할 수 있다. 아래에서 데이터를 1/255로 나누어주는 작업을 수행해 보자."
   ]
  },
  {
   "cell_type": "code",
   "execution_count": 23,
   "metadata": {
    "id": "XUXLcFimhe_f"
   },
   "outputs": [],
   "source": [
    "def normalize_img(image, label):\n",
    "###### 아래 빈칸. 실습하면서 완성 #####\n",
    "    \n",
    "###### 빈칸 끝 #####\n",
    "\n",
    "ds_train = ds_train.map(\n",
    "    normalize_img,\n",
    "    num_parallel_calls=tf.data.experimental.AUTOTUNE\n",
    ")\n",
    "\n",
    "#Not available in tf 2.1. deterministic=False #In case multithread is used, the order of data could be mixed"
   ]
  },
  {
   "cell_type": "markdown",
   "metadata": {
    "id": "5sEeLLPAhe_f"
   },
   "source": [
    "또한 꼭 Tensorflow 라이브러리에서 제공하는 함수가 아니라도, tf.py_function을 이용하여 아래와 같이 Dataset.map을 적용할 수 있다. 아래에서는 scipy.ndimage의 rotate를 활용하여 임의의 회전 변환을 하거나 상하반전변환을 하는 것을 보여준다."
   ]
  },
  {
   "cell_type": "code",
   "execution_count": 24,
   "metadata": {
    "id": "dMKz7T42he_f"
   },
   "outputs": [],
   "source": [
    "import scipy.ndimage as ndimage\n",
    "\n",
    "def random_rotate(image):\n",
    "    ###### 아래 빈칸. 실습하면서 완성 #####\n",
    "    \n",
    "    ###### 빈칸 끝 #####    \n",
    "    return image\n",
    "\n",
    "def tf_random_rotate(image, label):\n",
    "    im_shape = image.shape\n",
    "    [image] = tf.py_function(random_rotate, [image], [tf.float32])\n",
    "    image.set_shape(im_shape)\n",
    "    return image, label\n",
    "\n",
    "ds_train = ds_train.map(\n",
    "    tf_random_rotate, num_parallel_calls=tf.data.experimental.AUTOTUNE)"
   ]
  },
  {
   "cell_type": "code",
   "execution_count": 25,
   "metadata": {
    "id": "ZVNvYiQIhe_f"
   },
   "outputs": [],
   "source": [
    "def vertical_flip(image):\n",
    "    image = np.flipud(image)    \n",
    "    return image\n",
    "\n",
    "def tf_vertical_flip(image, label):\n",
    "    im_shape = image.shape\n",
    "    [image] = tf.py_function(vertical_flip, [image], [tf.float32])\n",
    "    image.set_shape(im_shape)\n",
    "    return image, label\n",
    "\n",
    "ds_train = ds_train.map(\n",
    "    tf_vertical_flip, \n",
    "    num_parallel_calls=tf.data.experimental.AUTOTUNE\n",
    "    #Not available in tf 2.1.deterministic=False\n",
    ")"
   ]
  },
  {
   "cell_type": "code",
   "execution_count": 26,
   "metadata": {
    "id": "mTJq9hlXhe_f",
    "outputId": "df241813-a9f1-4606-96a8-de9c6ca0c9d7"
   },
   "outputs": [
    {
     "name": "stderr",
     "output_type": "stream",
     "text": [
      "WARNING:matplotlib.image:Clipping input data to the valid range for imshow with RGB data ([0..1] for floats or [0..255] for integers).\n",
      "2022-08-07 17:13:34.923931: W tensorflow/core/kernels/data/cache_dataset_ops.cc:768] The calling iterator did not fully read the dataset being cached. In order to avoid unexpected truncation of the dataset, the partially cached contents of the dataset  will be discarded. This can happen if you have an input pipeline similar to `dataset.cache().take(k).repeat()`. You should use `dataset.take(k).cache().repeat()` instead.\n"
     ]
    },
    {
     "data": {
      "image/png": "[encoded data removed]",
      "text/plain": [
       "<Figure size 432x288 with 1 Axes>"
      ]
     },
     "metadata": {
      "needs_background": "light"
     },
     "output_type": "display_data"
    },
    {
     "data": {
      "image/png": "[encoded data removed]",
      "text/plain": [
       "<Figure size 432x288 with 1 Axes>"
      ]
     },
     "metadata": {
      "needs_background": "light"
     },
     "output_type": "display_data"
    }
   ],
   "source": [
    "def show(image, label):\n",
    "    plt.figure()\n",
    "    plt.imshow(image)\n",
    "    plt.title(label.numpy())\n",
    "    plt.axis('off')\n",
    "    \n",
    "for image, label in ds_train.take(2):\n",
    "    show(image, label)"
   ]
  },
  {
   "cell_type": "markdown",
   "metadata": {
    "id": "MSswEn_jhe_g"
   },
   "source": [
    "아래와 같이 Cache, Batch, Prefetch, Shuffle 등 Dataset의 Method들을 적용해 주자. 데이터의 사이즈가 큰 경우 상황에 맞게 적절한 Method를 활용함으로써 트레이닝 속도를 향상시킬 수 있다. 상세한 활용법은 아래 페이지를 참고하자.\n",
    "\n",
    "\n",
    "https://www.tensorflow.org/guide/data_performance"
   ]
  },
  {
   "cell_type": "code",
   "execution_count": 27,
   "metadata": {
    "id": "6B80cqC_he_g"
   },
   "outputs": [],
   "source": [
    "#ds_train = ds_train.cache() #You may cache the data, if it fits in memory\n",
    "\n",
    "#If possible, set buffer size same as the full number of data\n",
    "ds_train = ds_train.shuffle(ds_info.splits['train'].num_examples) \n",
    "\n",
    "# Set the batch size\n",
    "ds_train = ds_train.batch(32)\n",
    "\n",
    "# Prefetch data for performance\n",
    "ds_train = ds_train.prefetch(tf.data.experimental.AUTOTUNE)"
   ]
  },
  {
   "cell_type": "markdown",
   "metadata": {
    "id": "jjRwSIzXhe_g"
   },
   "source": [
    "모델 트레이닝 시에는 아래와 같이 Dataset을 model.fit의 인자로 넣어준다. 이전 방법들과는 다르게 Image, label을 별도로 넣어주지 않아도 된다."
   ]
  },
  {
   "cell_type": "code",
   "execution_count": 28,
   "metadata": {
    "id": "gRVIgtkuhe_g",
    "outputId": "bbffdf42-301b-4299-e5dc-d15d4f663fac"
   },
   "outputs": [
    {
     "name": "stderr",
     "output_type": "stream",
     "text": [
      "2022-08-07 17:13:49.671755: I tensorflow/core/kernels/data/shuffle_dataset_op.cc:177] Filling up shuffle buffer (this may take a while): 4845 of 50000\n",
      "2022-08-07 17:13:59.668922: I tensorflow/core/kernels/data/shuffle_dataset_op.cc:177] Filling up shuffle buffer (this may take a while): 9675 of 50000\n",
      "2022-08-07 17:14:09.669742: I tensorflow/core/kernels/data/shuffle_dataset_op.cc:177] Filling up shuffle buffer (this may take a while): 14543 of 50000\n",
      "2022-08-07 17:14:19.672567: I tensorflow/core/kernels/data/shuffle_dataset_op.cc:177] Filling up shuffle buffer (this may take a while): 19419 of 50000\n",
      "2022-08-07 17:14:29.672527: I tensorflow/core/kernels/data/shuffle_dataset_op.cc:177] Filling up shuffle buffer (this may take a while): 24326 of 50000\n",
      "2022-08-07 17:14:39.672510: I tensorflow/core/kernels/data/shuffle_dataset_op.cc:177] Filling up shuffle buffer (this may take a while): 29243 of 50000\n",
      "2022-08-07 17:14:49.671452: I tensorflow/core/kernels/data/shuffle_dataset_op.cc:177] Filling up shuffle buffer (this may take a while): 34212 of 50000\n",
      "2022-08-07 17:14:59.669219: I tensorflow/core/kernels/data/shuffle_dataset_op.cc:177] Filling up shuffle buffer (this may take a while): 39255 of 50000\n"
     ]
    },
    {
     "name": "stdout",
     "output_type": "stream",
     "text": [
      "\r",
      "   1/1250 [..............................] - ETA: 28:21:45 - loss: 1.9987 - accuracy: 0.3125"
     ]
    },
    {
     "name": "stderr",
     "output_type": "stream",
     "text": [
      "2022-08-07 17:15:01.027096: W tensorflow/core/kernels/data/cache_dataset_ops.cc:768] The calling iterator did not fully read the dataset being cached. In order to avoid unexpected truncation of the dataset, the partially cached contents of the dataset  will be discarded. This can happen if you have an input pipeline similar to `dataset.cache().take(k).repeat()`. You should use `dataset.take(k).cache().repeat()` instead.\n",
      "2022-08-07 17:15:01.180139: I tensorflow/core/kernels/data/shuffle_dataset_op.cc:230] Shuffle buffer filled.\n"
     ]
    },
    {
     "name": "stdout",
     "output_type": "stream",
     "text": [
      "1250/1250 [==============================] - 88s 5ms/step - loss: 1.4850 - accuracy: 0.1061\n"
     ]
    },
    {
     "data": {
      "text/plain": [
       "<tensorflow.python.keras.callbacks.History at 0x7fc66eb9b6d0>"
      ]
     },
     "execution_count": 28,
     "metadata": {},
     "output_type": "execute_result"
    }
   ],
   "source": [
    "model.fit(ds_train, epochs=1)"
   ]
  },
  {
   "cell_type": "markdown",
   "metadata": {
    "id": "owKUOcPvhe_h"
   },
   "source": [
    "### File로부터 Tensorflow Dataset 만들기"
   ]
  },
  {
   "cell_type": "markdown",
   "metadata": {
    "id": "5Lj1hAEshe_h"
   },
   "source": [
    "먼저 적당한 Data를 다운로드받고, 경로를 저장하자."
   ]
  },
  {
   "cell_type": "code",
   "execution_count": 29,
   "metadata": {
    "id": "dnrGXqEehe_h"
   },
   "outputs": [
    {
     "name": "stdout",
     "output_type": "stream",
     "text": [
      "Downloading data from https://storage.googleapis.com/download.tensorflow.org/example_images/flower_photos.tgz\n",
      "228818944/228813984 [==============================] - 11s 0us/step\n"
     ]
    }
   ],
   "source": [
    "import pathlib\n",
    "flowers_root  = tf.keras.utils.get_file(\n",
    "    \"flower_photos\",\n",
    "    \"https://storage.googleapis.com/download.tensorflow.org/example_images/flower_photos.tgz\",\n",
    "    untar=True)\n",
    "\n",
    "# The path of data folder\n",
    "flowers_root = pathlib.Path(flowers_root) "
   ]
  },
  {
   "cell_type": "markdown",
   "metadata": {
    "id": "7NX6AcLRhe_h"
   },
   "source": [
    "파일로부터 Dataset을 만들기 위해서 폴더 구조는 아래와 같이 구성되어 있어야 한다. 즉, 각 클래스별 폴더 아래에 이미지가 모여 있는 형태가 되어야 한다.\n",
    "\n",
    "main_directory/ <br>\n",
    "...class_a/ <br>\n",
    "......a_image_1.jpg <br>\n",
    "......a_image_2.jpg <br>\n",
    "...class_b/ <br>\n",
    "......b_image_1.jpg <br>\n",
    "......b_image_2.jpg <br>\n",
    "<br>\n",
    "위와 같이 폴더 구조를 구성한 후 `keras.preprocessing.image_dataset_from_directory` method를 이용하면 아래와 같이 tf.data.Dataset 클래스로 구성해 준다. (**Old tensorflow version에서는 실행 불가능할 수 있음**)\n"
   ]
  },
  {
   "cell_type": "code",
   "execution_count": 30,
   "metadata": {
    "id": "TjORnOLQhe_h",
    "outputId": "7b6ee3dc-1841-4539-ae9d-5d0b554466ab",
    "scrolled": true
   },
   "outputs": [
    {
     "name": "stdout",
     "output_type": "stream",
     "text": [
      "Found 3670 files belonging to 5 classes.\n",
      "Using 2936 files for training.\n",
      "Found 3670 files belonging to 5 classes.\n",
      "Using 734 files for validation.\n"
     ]
    }
   ],
   "source": [
    "train_ds = tf.keras.preprocessing.image_dataset_from_directory(\n",
    "  flowers_root,\n",
    "  validation_split=0.2,\n",
    "  subset=\"training\",\n",
    "  seed=123, # For shuffling, shuffle is defaulted to True\n",
    "  image_size=(180, 180)\n",
    ")\n",
    "\n",
    "val_ds = tf.keras.preprocessing.image_dataset_from_directory(\n",
    "  flowers_root,\n",
    "  validation_split=0.2,\n",
    "  subset=\"validation\",\n",
    "  seed=123,\n",
    "  image_size=(180, 180)\n",
    ")"
   ]
  },
  {
   "cell_type": "markdown",
   "metadata": {
    "id": "8Xa7OY6Vhe_h"
   },
   "source": [
    "이후의 과정은 앞에서 설명한 tf.data.Dataset의 여러 method를 활용하여 진행하면 된다. keras.preprocessing을 사용하지 않고 직접 파일을 로드하여 tf.data.Dataset을 구성하고 싶다면 아래와 같은 방식도 가능하다. 지정된 경로의 모든 파일이 하나의 tf.data.Dataset이 되고 위에서 설명한 방법을 이용하여 training/validation/test split, preprocessing 등을 해볼 수 있다."
   ]
  },
  {
   "cell_type": "code",
   "execution_count": 31,
   "metadata": {
    "id": "Nv374xEOhe_i"
   },
   "outputs": [],
   "source": [
    "list_ds = tf.data.Dataset.list_files(str(flowers_root/'*/*'))"
   ]
  },
  {
   "cell_type": "code",
   "execution_count": 32,
   "metadata": {
    "id": "3hDdkCSHhe_i"
   },
   "outputs": [],
   "source": [
    "import os\n",
    "\n",
    "def parse_image(filename):\n",
    "    parts = tf.strings.split(filename, os.sep)    \n",
    "\n",
    "    label_dict = ['daisy', 'dandelion', 'roses', 'sunflowers', 'tulips']\n",
    "    label = parts[-2] == label_dict # Get label from folder name\n",
    "\n",
    "    image = tf.io.read_file(filename) \n",
    "    image = tf.image.decode_jpeg(image, channels=3)\n",
    "    image = tf.image.convert_image_dtype(image, tf.float32)\n",
    "    image = tf.image.resize(image, [180, 180])\n",
    "    return image, label\n",
    "\n",
    "images_ds = list_ds.map(parse_image)"
   ]
  },
  {
   "cell_type": "markdown",
   "metadata": {
    "id": "JlHY6RiLhe_j"
   },
   "source": [
    "이 외에도 Data preprocessing/augmentation을 위한  여러 가지 방법론들이 있으나, 본 실습에서 모두 다루기에는 분량이 너무 많으므로 각자 사용하고자 하는 데이터 및 처리 방향에 맞추어 적절한 방법론을 찾아 공부하도록 하자.\n",
    "- Custom data generator: 사용자 입맛에 맞추어 data generator를 만들 수 있다.  `keras.utils.Sequence`를 활용한 Data generator 생성은 Dcoumentation을 참고하자. https://www.tensorflow.org/api_docs/python/tf/keras/utils/Sequence\n",
    "- TFRecord: Tensorflow에서 제공하는 데이터 저장 포맷으로, 보다 효율적인 데이터 로드를 가능하게 해준다. 이를 위한 데이터 저장 포맷, Method 들이 별도로 존재하므로 필요하다면 관련 Documentation을 참고하자. https://www.tensorflow.org/tutorials/load_data/tfrecord"
   ]
  },
  {
   "cell_type": "code",
   "execution_count": 33,
   "metadata": {
    "id": "u867INcshe_j",
    "outputId": "5100d951-ce7a-484d-9c95-4482f2462f84"
   },
   "outputs": [
    {
     "name": "stderr",
     "output_type": "stream",
     "text": [
      "/home/keondopark/anaconda3/envs/tf_3090/lib/python3.8/site-packages/matplotlib/text.py:1223: FutureWarning: elementwise comparison failed; returning scalar instead, but in the future will perform elementwise comparison\n",
      "  if s != self._text:\n"
     ]
    },
    {
     "data": {
      "image/png": "[encoded data removed]",
      "text/plain": [
       "<Figure size 432x288 with 1 Axes>"
      ]
     },
     "metadata": {
      "needs_background": "light"
     },
     "output_type": "display_data"
    }
   ],
   "source": [
    "for image, label in images_ds.take(1):\n",
    "    show(image, label)"
   ]
  },
  {
   "cell_type": "code",
   "execution_count": null,
   "metadata": {
    "id": "sJgLuai-he_j"
   },
   "outputs": [],
   "source": []
  },
  {
   "cell_type": "code",
   "execution_count": null,
   "metadata": {
    "id": "ZMA9YDcIhe_j"
   },
   "outputs": [],
   "source": []
  }
 ],
 "metadata": {
  "colab": {
   "name": "Practice_Data_dist.ipynb",
   "provenance": []
  },
  "kernelspec": {
   "display_name": "Python 3 (ipykernel)",
   "language": "python",
   "name": "python3"
  },
  "language_info": {
   "codemirror_mode": {
    "name": "ipython",
    "version": 3
   },
   "file_extension": ".py",
   "mimetype": "text/x-python",
   "name": "python",
   "nbconvert_exporter": "python",
   "pygments_lexer": "ipython3",
   "version": "3.8.0"
  }
 },
 "nbformat": 4,
 "nbformat_minor": 1
}
